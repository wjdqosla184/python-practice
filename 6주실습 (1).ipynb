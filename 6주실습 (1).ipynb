{
 "cells": [
  {
   "cell_type": "markdown",
   "id": "95ffcdc1-1764-47fb-a704-902127540481",
   "metadata": {},
   "source": [
    "# "
   ]
  },
  {
   "cell_type": "code",
   "execution_count": 50,
   "id": "33859fe9-8d5b-4353-905e-c378788914e6",
   "metadata": {},
   "outputs": [
    {
     "name": "stdout",
     "output_type": "stream",
     "text": [
      "                       메뉴판\n",
      " Americano 3500원 Cafe latte 4000원 Ice tea 4500원\n"
     ]
    },
    {
     "name": "stdin",
     "output_type": "stream",
     "text": [
      "주문메뉴 Americano, Cafe latte, Ice tea 중 선택하세요. Ice tea\n"
     ]
    },
    {
     "name": "stdout",
     "output_type": "stream",
     "text": [
      "주문내역: Ice tea\n",
      "4500 원\n"
     ]
    }
   ],
   "source": [
    "# 1. 메뉴를 딕셔너리로 표현 : Americano 3500 Cafe latte 4000,  Ice tea 4500\n",
    "# 2. 메뉴판을 화면에 보여주기\n",
    "menu={'Americano':3500,'Cafe latte':4000,'Ice tea':4500}\n",
    "showmenu='Americano 3500원 Cafe latte 4000원 Ice tea 4500원'\n",
    "print('                       메뉴판\\n'                 ,showmenu)\n",
    "order=''\n",
    "while order not in menu:\n",
    "    order=input('주문메뉴 Americano, Cafe latte, Ice tea 중 선택하세요.')\n",
    "print('주문내역:',order)\n",
    "print(menu[order],'원')"
   ]
  },
  {
   "cell_type": "code",
   "execution_count": 32,
   "id": "43a71f9f-9fd8-447e-838f-9e3f8f244ca5",
   "metadata": {},
   "outputs": [
    {
     "name": "stdout",
     "output_type": "stream",
     "text": [
      "7\n"
     ]
    }
   ],
   "source": [
    "# 6주 실습\n",
    "\n",
    "#1) 두 개의 인수를 입력 받아 덧셈하는 함수 작성\n",
    "def add(a, b):\n",
    "    r=a+b\n",
    "    return r\n",
    "print(add(3, 4))"
   ]
  },
  {
   "cell_type": "code",
   "execution_count": 36,
   "id": "28051792-bfd8-41c2-a061-747a837de121",
   "metadata": {},
   "outputs": [
    {
     "name": "stdout",
     "output_type": "stream",
     "text": [
      "28\n"
     ]
    }
   ],
   "source": [
    "# 2) 여러 개의 인수를 입력받아서 더하는 함수\n",
    "\n",
    "def M_add(*nums):\n",
    "    r=0\n",
    "    for i in nums:\n",
    "        r+=i\n",
    "    return r\n",
    "print(M_add(2,7,9,10))"
   ]
  },
  {
   "cell_type": "code",
   "execution_count": 42,
   "id": "3bbe484b-ad60-477f-a04b-f038e4726d58",
   "metadata": {},
   "outputs": [
    {
     "name": "stdout",
     "output_type": "stream",
     "text": [
      "(45, 200)\n",
      "30 200\n",
      "(9, 20)\n"
     ]
    }
   ],
   "source": [
    "# 3) 리턴 값이 여러 개인 경우 - 튜플\n",
    "\n",
    "def add_mul(a,b):\n",
    "    return a+b, a*b\n",
    "r=add_mul(40,5)\n",
    "print(r)\n",
    "r1, r2=add_mul(10,20)\n",
    "print(r1, r2)\n",
    "print(add_mul(4,5))"
   ]
  },
  {
   "cell_type": "code",
   "execution_count": 46,
   "id": "ec831af8-dc29-4b61-a983-0083e5aa1c7f",
   "metadata": {},
   "outputs": [
    {
     "name": "stdout",
     "output_type": "stream",
     "text": [
      "{'a': 5}\n"
     ]
    }
   ],
   "source": [
    "# 4) 딕셔너리로 저장하는 함수 : 입력형태, 키=값으로 입력\n",
    "\n",
    "def print_kargs(**kargs):\n",
    "    print(kargs)\n",
    "print_kargs(a=5)\n"
   ]
  },
  {
   "cell_type": "code",
   "execution_count": 49,
   "id": "77aa26b5-f0a3-484a-9588-b2f6eee4a3ec",
   "metadata": {},
   "outputs": [
    {
     "name": "stdout",
     "output_type": "stream",
     "text": [
      "{'name': 'JUJU', 'age': 20}\n"
     ]
    }
   ],
   "source": [
    "print_kargs(name='JUJU', age=20)"
   ]
  },
  {
   "cell_type": "code",
   "execution_count": 94,
   "id": "c02aca15-23ca-489e-b901-8b455d7ea9a1",
   "metadata": {},
   "outputs": [
    {
     "name": "stdout",
     "output_type": "stream",
     "text": [
      "[{'name': 'Americano', 'price': 3500}, {'name': 'Cafe latte', 'price': 4000}, {'name': 'Ice tea', 'price': 4500}]\n"
     ]
    }
   ],
   "source": [
    "# 5) 복습 : 1. 메뉴를 딕셔너리로 표현 : Americano 3500 Cafe latte 4000,  Ice tea 4500\n",
    "# 2. 메뉴판을 화면에 보여주기\n",
    "data=[{'name' : 'Americano', 'price':3500},\n",
    "      {'name' : 'Cafe latte', 'price':4000},\n",
    "      {'name' : 'Ice tea', 'price':4500}]\n",
    "print(data)"
   ]
  },
  {
   "cell_type": "code",
   "execution_count": 95,
   "id": "2065ddc1-180a-4084-9d25-1f308a835bc9",
   "metadata": {},
   "outputs": [
    {
     "name": "stdout",
     "output_type": "stream",
     "text": [
      "[{'name': 'Americano', 'price': 3500}, {'name': 'Cafe latte', 'price': 4000}, {'name': 'Ice tea', 'price': 4500}, {'name': 'Capuccino', 'price': 5000}]\n"
     ]
    }
   ],
   "source": [
    "# 1-2 메뉴 카푸치노 5000 추가\n",
    "\n",
    "data.append({'name':'Capuccino', 'price':5000})\n",
    "print(data)"
   ]
  },
  {
   "cell_type": "code",
   "execution_count": 96,
   "id": "c6cc6df1-3eee-4cec-91d4-c14bc07b67c0",
   "metadata": {},
   "outputs": [
    {
     "name": "stdout",
     "output_type": "stream",
     "text": [
      " --------- [ MENU ] ---------\n",
      "Americano     |    3500\n",
      "Cafe latte    |    4000\n",
      "Ice tea       |    4500\n",
      "Capuccino     |    5000\n",
      "-----------------------------\n"
     ]
    }
   ],
   "source": [
    "# 2. 메뉴판을 화면에 보여주기\n",
    "print(' --------- [ MENU ] ---------')\n",
    "for menu in data :\n",
    "    print('{:14}|{:8d}'.format(menu['name'],menu['price']))\n",
    "print('-----------------------------')"
   ]
  },
  {
   "cell_type": "code",
   "execution_count": 97,
   "id": "100d40e9-d558-42bb-8c58-e6a6f217c4d2",
   "metadata": {},
   "outputs": [
    {
     "name": "stdout",
     "output_type": "stream",
     "text": [
      " --------- [ MENU ] ---------\n",
      "Americano     |    3500\n",
      "Cafe latte    |    4000\n",
      "Ice tea       |    4500\n",
      "Capuccino     |    5000\n",
      "-----------------------------\n"
     ]
    }
   ],
   "source": [
    "#3) 메뉴판을 화면에 보여주는 함수를 작성하라 3-2\n",
    "def show_menu(data):\n",
    "    for menu in data:\n",
    "        print('{:14}|{:8d}'.format(menu['name'],menu['price']))\n",
    "print(' --------- [ MENU ] ---------')\n",
    "show_menu(data)\n",
    "print('-----------------------------')"
   ]
  },
  {
   "cell_type": "code",
   "execution_count": 103,
   "id": "537142dc-a4ba-42d9-9bcf-99cedafddf53",
   "metadata": {},
   "outputs": [
    {
     "name": "stdout",
     "output_type": "stream",
     "text": [
      "['Americano', 'Cafe latte', 'Ice tea', 'Capuccino']\n",
      "상품명을 입력하세요 >>> \n"
     ]
    },
    {
     "name": "stdin",
     "output_type": "stream",
     "text": [
      " Ice tea\n"
     ]
    },
    {
     "name": "stdout",
     "output_type": "stream",
     "text": [
      "상품명 :  Ice tea\n"
     ]
    },
    {
     "data": {
      "text/plain": [
       "'Ice tea'"
      ]
     },
     "execution_count": 103,
     "metadata": {},
     "output_type": "execute_result"
    }
   ],
   "source": [
    "# 3-1. 입력 함수 2개-(주문받는 함수, 상품명 리스트 리턴함수)\n",
    "# 1) 딕셔너리의 있는 상품명을 리스트로 만들기\n",
    "names=[] #빈리스트\n",
    "for menu in data:\n",
    "    names.append(menu['name'])\n",
    "    \n",
    "print(names)\n",
    "# 2) 주문 받는 프로그램\n",
    "def get_Product(names):\n",
    "    while True:\n",
    "        order=input()\n",
    "        if order in names:\n",
    "            print('상품명 : ',order)\n",
    "            return order\n",
    "            break\n",
    "        else:\n",
    "            print('해당 상품은 없습니다. 다시 상품을 선택해 주세요>>>')\n",
    "            \n",
    "print('상품명을 입력하세요 >>> ')        \n",
    "get_Product(names)"
   ]
  },
  {
   "cell_type": "code",
   "execution_count": 99,
   "id": "c9770d09-d347-4f4a-a8aa-8575a7f31804",
   "metadata": {},
   "outputs": [
    {
     "name": "stdout",
     "output_type": "stream",
     "text": [
      "['Americano', 'Cafe latte', 'Ice tea', 'Capuccino']\n"
     ]
    }
   ],
   "source": [
    "# 3) 상품명 리스트 리턴함수\n",
    "def get_ProductName(data):\n",
    "    names=[] #빈리스트\n",
    "    for menu in data:\n",
    "        names.append(menu['name'])\n",
    "    print(names)\n",
    "\n",
    "get_ProductName(data)"
   ]
  },
  {
   "cell_type": "code",
   "execution_count": 109,
   "id": "2e0a21be-7d50-4947-a7ee-63e1cf6a80b6",
   "metadata": {},
   "outputs": [
    {
     "name": "stdout",
     "output_type": "stream",
     "text": [
      "['Americano', 'Cafe latte', 'Ice tea', 'Capuccino']\n",
      "상품명을 입력하세요 >>> \n"
     ]
    },
    {
     "name": "stdin",
     "output_type": "stream",
     "text": [
      " Americano\n"
     ]
    },
    {
     "name": "stdout",
     "output_type": "stream",
     "text": [
      "상품명 :  Americano\n",
      "상품 가격 :  3500\n"
     ]
    }
   ],
   "source": [
    "# 4)영수증 출력 함수 2개(가격을 가져오는 함수, 영수증 출력 함수)\n",
    "# 4-1) 가격을 가져오는 함수\n",
    "names=[] #빈리스트\n",
    "for menu in data:\n",
    "    names.append(menu['name'])\n",
    "    \n",
    "print(names)\n",
    "# 2) 주문 받는 프로그램\n",
    "def get_Product(names):\n",
    "    while True:\n",
    "        order=input()\n",
    "        if order in names:\n",
    "            print('상품명 : ',order)\n",
    "            return(order)\n",
    "            break\n",
    "        else:\n",
    "            print('해당 상품은 없습니다. 다시 상품을 선택해 주세요>>>')\n",
    "            \n",
    "print('상품명을 입력하세요 >>> ')        \n",
    "order= get_Product(names)\n",
    "for menu in data:\n",
    "    if menu['name'] == order:\n",
    "        print('상품 가격 : ',menu['price'])"
   ]
  },
  {
   "cell_type": "code",
   "execution_count": 110,
   "id": "0d55a9bc-795c-41ce-9982-682e9951c46a",
   "metadata": {},
   "outputs": [
    {
     "name": "stdout",
     "output_type": "stream",
     "text": [
      "주문한 상품 가격은 다음과 같습니다.\n",
      "상품가격:  3500\n"
     ]
    }
   ],
   "source": [
    "# 4-2) 영수증 출력 함수\n",
    "def getPrice(data, order):\n",
    "    for menu in data:\n",
    "        if menu['name'] == order:\n",
    "            #print('상품가격: ',menu['price'])\n",
    "            return menu['price']\n",
    "print('주문한 상품 가격은 다음과 같습니다.')\n",
    "print('상품가격: ',getPrice(data, order))"
   ]
  }
 ],
 "metadata": {
  "kernelspec": {
   "display_name": "Python 3 (ipykernel)",
   "language": "python",
   "name": "python3"
  },
  "language_info": {
   "codemirror_mode": {
    "name": "ipython",
    "version": 3
   },
   "file_extension": ".py",
   "mimetype": "text/x-python",
   "name": "python",
   "nbconvert_exporter": "python",
   "pygments_lexer": "ipython3",
   "version": "3.12.4"
  }
 },
 "nbformat": 4,
 "nbformat_minor": 5
}
