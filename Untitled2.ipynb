{
 "cells": [
  {
   "cell_type": "markdown",
   "id": "d59adffd-7343-4b94-b344-969eb91b9c08",
   "metadata": {},
   "source": [
    "# 4주 데이터의 형 : bool, int, float, str, ..."
   ]
  },
  {
   "cell_type": "code",
   "execution_count": 12,
   "id": "fa19e5f5-ffa3-43dc-9215-2fafbfda8095",
   "metadata": {},
   "outputs": [
    {
     "name": "stdout",
     "output_type": "stream",
     "text": [
      "<class 'bool'>\n"
     ]
    }
   ],
   "source": [
    "x=True\n",
    "print(type(x))"
   ]
  },
  {
   "cell_type": "code",
   "execution_count": 13,
   "id": "691b846e-504a-4d9d-84b6-07651e9fe08d",
   "metadata": {},
   "outputs": [
    {
     "name": "stdout",
     "output_type": "stream",
     "text": [
      "False\n"
     ]
    }
   ],
   "source": [
    "print(bool(0))"
   ]
  },
  {
   "cell_type": "code",
   "execution_count": 14,
   "id": "33c88804-89fa-4ac4-9b2a-4f5d70c2a5bf",
   "metadata": {},
   "outputs": [
    {
     "name": "stdout",
     "output_type": "stream",
     "text": [
      "True\n"
     ]
    }
   ],
   "source": [
    "print(bool(-5))"
   ]
  },
  {
   "cell_type": "code",
   "execution_count": 16,
   "id": "c126273d-9478-4cdf-a608-ca5d51bb69d3",
   "metadata": {},
   "outputs": [
    {
     "name": "stdout",
     "output_type": "stream",
     "text": [
      "False\n"
     ]
    }
   ],
   "source": [
    "print(bool([]))"
   ]
  },
  {
   "cell_type": "code",
   "execution_count": 17,
   "id": "6a3079c8-6de7-4286-b056-a63b4db7ad12",
   "metadata": {},
   "outputs": [
    {
     "name": "stdout",
     "output_type": "stream",
     "text": [
      "True\n"
     ]
    }
   ],
   "source": [
    "print(bool(['A']))"
   ]
  },
  {
   "cell_type": "code",
   "execution_count": 18,
   "id": "7cfd4179-a3c2-4e43-a861-2a6f3e6b20bc",
   "metadata": {},
   "outputs": [
    {
     "name": "stdout",
     "output_type": "stream",
     "text": [
      "False\n"
     ]
    }
   ],
   "source": [
    "print(bool({}))"
   ]
  },
  {
   "cell_type": "code",
   "execution_count": 19,
   "id": "95c6f996-e9f1-4dcd-8a07-b2c2beeda3f5",
   "metadata": {},
   "outputs": [
    {
     "name": "stdout",
     "output_type": "stream",
     "text": [
      "True\n"
     ]
    }
   ],
   "source": [
    "print(bool({1}))"
   ]
  },
  {
   "cell_type": "code",
   "execution_count": 20,
   "id": "33892329-a353-469a-b556-0c2706e5cf70",
   "metadata": {},
   "outputs": [
    {
     "name": "stdout",
     "output_type": "stream",
     "text": [
      "True\n"
     ]
    }
   ],
   "source": [
    "print(bool('hello'))"
   ]
  },
  {
   "cell_type": "code",
   "execution_count": 21,
   "id": "06cd0571-23b1-48fd-9861-293d5de4a590",
   "metadata": {},
   "outputs": [
    {
     "name": "stdout",
     "output_type": "stream",
     "text": [
      "False\n"
     ]
    }
   ],
   "source": [
    "print(bool(''))"
   ]
  },
  {
   "cell_type": "code",
   "execution_count": 23,
   "id": "7b78967a-b098-4659-a1d1-a9eb3bcb5aec",
   "metadata": {},
   "outputs": [
    {
     "name": "stdout",
     "output_type": "stream",
     "text": [
      "{1, 3, 5}\n",
      "<class 'set'>\n"
     ]
    }
   ],
   "source": [
    "y={1,3,5,1}\n",
    "print(y)\n",
    "print(type(y))"
   ]
  },
  {
   "cell_type": "code",
   "execution_count": 24,
   "id": "6d3183e6-e59a-4ed5-95c5-0a8a7ff37c8b",
   "metadata": {},
   "outputs": [
    {
     "name": "stdout",
     "output_type": "stream",
     "text": [
      "\n",
      "<class 'str'>\n"
     ]
    }
   ],
   "source": [
    "z=''\n",
    "print(z)\n",
    "print(type(z))"
   ]
  },
  {
   "cell_type": "code",
   "execution_count": 26,
   "id": "feaff926-6eab-4f20-abf0-40e31c102d0e",
   "metadata": {},
   "outputs": [
    {
     "name": "stdout",
     "output_type": "stream",
     "text": [
      "강아지의 이름은 \"햇님\"이야\n",
      "<class 'str'>\n"
     ]
    }
   ],
   "source": [
    "#문자열의 출력 형태\n",
    "# 영아가 말했다. \"강아지의 이름은 '햇님'이야\" 출력하라\n",
    "txt1='강아지의 이름은 \"햇님\"이야'\n",
    "print(txt1)\n",
    "print(type(txt1))"
   ]
  },
  {
   "cell_type": "code",
   "execution_count": 34,
   "id": "8a0ccb64-1a0b-4619-a8d1-1c2d58a82953",
   "metadata": {},
   "outputs": [
    {
     "name": "stdout",
     "output_type": "stream",
     "text": [
      "영아가 말했다. \"친구가 '햇님이 좋아! '라고 말했다.\" \n"
     ]
    }
   ],
   "source": [
    "txt2='영아가 말했다. \\\"친구가 \\'햇님이 좋아! \\'라고 말했다.\\\" '\n",
    "print(txt2)"
   ]
  },
  {
   "cell_type": "code",
   "execution_count": 38,
   "id": "e35720b7-e5b2-4556-884b-b9bd15769479",
   "metadata": {},
   "outputs": [
    {
     "name": "stdout",
     "output_type": "stream",
     "text": [
      "(1, 2, 4, 5) <class 'tuple'>\n"
     ]
    }
   ],
   "source": [
    "#튜플 : 순서가 있는 데이터 목록, 변경x 삭제x\n",
    "t1=1,2,4,5\n",
    "print(t1, type(t1))"
   ]
  },
  {
   "cell_type": "code",
   "execution_count": 39,
   "id": "cd187576-3bd6-4170-a8eb-a79bed1fb159",
   "metadata": {},
   "outputs": [
    {
     "name": "stdout",
     "output_type": "stream",
     "text": [
      "('A', 'B', 'C') <class 'tuple'>\n"
     ]
    }
   ],
   "source": [
    "t2=('A','B','C')\n",
    "print(t2, type(t2))"
   ]
  },
  {
   "cell_type": "code",
   "execution_count": 41,
   "id": "938645ae-8f56-4973-9ddf-001092bf216e",
   "metadata": {},
   "outputs": [
    {
     "name": "stdout",
     "output_type": "stream",
     "text": [
      "('Python', 10000, 3.2, (20, 'C++', 1), False) <class 'tuple'>\n"
     ]
    }
   ],
   "source": [
    "t3='Python', 10000, 3.2, (20,'C++',1), False\n",
    "print(t3, type(t3))"
   ]
  },
  {
   "cell_type": "code",
   "execution_count": 48,
   "id": "f424bc92-a18b-49c7-93ab-10e95b23a3b2",
   "metadata": {},
   "outputs": [
    {
     "name": "stdout",
     "output_type": "stream",
     "text": [
      "(1, 2, 4, 5) <class 'tuple'>\n",
      "[1, 2, 4, 5] <class 'list'>\n",
      "[1, 2, 10, 5]\n"
     ]
    }
   ],
   "source": [
    "print(t1, type(t1))\n",
    "t11=list(t1) # type 변경\n",
    "print(t11, type(t11))\n",
    "t11[2] = 10\n",
    "print(t11)"
   ]
  },
  {
   "cell_type": "code",
   "execution_count": 1,
   "id": "69f2557f-5e8e-45cc-8351-2e7506ada92a",
   "metadata": {},
   "outputs": [
    {
     "name": "stdout",
     "output_type": "stream",
     "text": [
      "{1, 2, 3, 'B', 5, 'A'} <class 'set'>\n",
      "6\n"
     ]
    }
   ],
   "source": [
    "#set : 순서x 중복 x\n",
    "s1={1, 1, 2, 3, 5, 'A', 'B', 3, 5}\n",
    "print(s1, type(s1))\n",
    "print(len(s1))"
   ]
  },
  {
   "cell_type": "code",
   "execution_count": 8,
   "id": "dcd1fc92-b855-41fa-95a2-08d03173acd4",
   "metadata": {},
   "outputs": [
    {
     "name": "stdout",
     "output_type": "stream",
     "text": [
      "{1, 3, 'B', 4, 'A'} <class 'set'>\n",
      "5\n"
     ]
    }
   ],
   "source": [
    "s2=set({1,3,4,'A','B',1,3,3})\n",
    "print(s2, type(s2))\n",
    "print(len(s2))"
   ]
  },
  {
   "cell_type": "code",
   "execution_count": 7,
   "id": "415c1ee2-fea5-4803-ac9b-06c20fef639f",
   "metadata": {},
   "outputs": [
    {
     "name": "stdout",
     "output_type": "stream",
     "text": [
      "[1, 3, 4, 'A', 'B', 1, 3, 3] <class 'list'>\n",
      "8\n"
     ]
    }
   ],
   "source": [
    "s3=[1,3,4,'A','B',1,3,3]\n",
    "print(s3, type(s3))\n",
    "print(len(s3))"
   ]
  },
  {
   "cell_type": "code",
   "execution_count": 9,
   "id": "eaffd284-3e36-4d14-a0c3-24ef8f3965d6",
   "metadata": {},
   "outputs": [
    {
     "name": "stdout",
     "output_type": "stream",
     "text": [
      "{1, 'B', 3, 4, 'A'} <class 'set'> 5\n"
     ]
    }
   ],
   "source": [
    "s3=set(s3)\n",
    "print(s3, type(s3),len(s3))"
   ]
  },
  {
   "cell_type": "code",
   "execution_count": 11,
   "id": "1a6a6b51-befd-4797-b637-471d3b1bcbc6",
   "metadata": {},
   "outputs": [
    {
     "name": "stdout",
     "output_type": "stream",
     "text": [
      "{1, 2, 3, 'B', 5, 'A'}\n",
      "{1, 2, 3, 'B', 5, 'C', 'A'}\n"
     ]
    }
   ],
   "source": [
    "print(s1)\n",
    "s1.add('C')\n",
    "print(s1)"
   ]
  },
  {
   "cell_type": "code",
   "execution_count": 12,
   "id": "d66b1638-cc57-4da2-b546-f9e9be0b5830",
   "metadata": {},
   "outputs": [
    {
     "name": "stdout",
     "output_type": "stream",
     "text": [
      "{1, 2, 3, 'B', 'C', 'A'}\n"
     ]
    }
   ],
   "source": [
    "s1.remove(5)\n",
    "print(s1)"
   ]
  },
  {
   "cell_type": "code",
   "execution_count": 13,
   "id": "55f09d43-c2b1-4f0b-9b48-3814a50626c8",
   "metadata": {},
   "outputs": [
    {
     "name": "stdout",
     "output_type": "stream",
     "text": [
      "set()\n"
     ]
    }
   ],
   "source": [
    "s1.clear()\n",
    "print(s1)"
   ]
  },
  {
   "cell_type": "code",
   "execution_count": 14,
   "id": "3e73fc66-c03c-4883-8c03-2eb5ada6e03f",
   "metadata": {},
   "outputs": [
    {
     "name": "stdout",
     "output_type": "stream",
     "text": [
      "[] <class 'list'> 0\n"
     ]
    }
   ],
   "source": [
    "#list : 순서, 중복 허용하는 데이터 집합\n",
    "L1=[]\n",
    "print(L1, type(L1),len(L1))"
   ]
  },
  {
   "cell_type": "code",
   "execution_count": 16,
   "id": "af9a42bb-0216-470c-8ecf-686e288d9695",
   "metadata": {},
   "outputs": [
    {
     "name": "stdout",
     "output_type": "stream",
     "text": [
      "[1, 3, 5, 7, 9] <class 'list'> 5\n"
     ]
    }
   ],
   "source": [
    "L2=[1, 3, 5, 7, 9]\n",
    "print(L2, type(L2),len(L2))"
   ]
  },
  {
   "cell_type": "code",
   "execution_count": 17,
   "id": "57acd31c-caef-4ffc-8dd7-fa3c77c30a05",
   "metadata": {},
   "outputs": [
    {
     "name": "stdout",
     "output_type": "stream",
     "text": [
      "[1, 3, 500, 7, 9]\n"
     ]
    }
   ],
   "source": [
    "L2[2]=500\n",
    "print(L2)"
   ]
  },
  {
   "cell_type": "code",
   "execution_count": 18,
   "id": "a116880e-c6df-4936-90ee-d2e8e11411bf",
   "metadata": {},
   "outputs": [
    {
     "name": "stdout",
     "output_type": "stream",
     "text": [
      "[1, 3, 500, 7, 9, 1000]\n"
     ]
    }
   ],
   "source": [
    "L2.append(1000)\n",
    "print(L2)"
   ]
  },
  {
   "cell_type": "code",
   "execution_count": 21,
   "id": "a8560971-3742-4733-977d-5419e214a488",
   "metadata": {},
   "outputs": [
    {
     "name": "stdout",
     "output_type": "stream",
     "text": [
      "[10, 1, 3, 500, 9, 1000]\n"
     ]
    }
   ],
   "source": [
    "#L2.remove(7)\n",
    "L2.insert(0,10)\n",
    "print(L2)"
   ]
  },
  {
   "cell_type": "code",
   "execution_count": 22,
   "id": "91c67130-96bd-42d7-9b86-47bc268ae5b7",
   "metadata": {},
   "outputs": [
    {
     "name": "stdout",
     "output_type": "stream",
     "text": [
      "[1, 3, 9, 10, 500, 1000]\n"
     ]
    }
   ],
   "source": [
    "# 정렬 \n",
    "L2.sort()\n",
    "print(L2)"
   ]
  },
  {
   "cell_type": "code",
   "execution_count": 23,
   "id": "b9a7c8d7-0950-46a3-b8e0-3e9440dadf5b",
   "metadata": {},
   "outputs": [
    {
     "name": "stdout",
     "output_type": "stream",
     "text": [
      "[1000, 500, 10, 9, 3, 1]\n"
     ]
    }
   ],
   "source": [
    "L2.reverse()\n",
    "print(L2)"
   ]
  },
  {
   "cell_type": "code",
   "execution_count": 24,
   "id": "ade7c747-0992-46e4-b1ee-42b2aba15a4c",
   "metadata": {},
   "outputs": [
    {
     "name": "stdout",
     "output_type": "stream",
     "text": [
      "[1, 3, 9, 10, 500, 1000]\n"
     ]
    }
   ],
   "source": [
    "L2.sort(reverse=False)\n",
    "print(L2)"
   ]
  },
  {
   "cell_type": "code",
   "execution_count": 25,
   "id": "7886d3ab-d4d1-4b23-af90-1cbb4d23626c",
   "metadata": {},
   "outputs": [
    {
     "name": "stdout",
     "output_type": "stream",
     "text": [
      "[1000, 500, 10, 9, 3, 1]\n"
     ]
    }
   ],
   "source": [
    "L2.sort(reverse=True)\n",
    "print(L2)"
   ]
  },
  {
   "cell_type": "code",
   "execution_count": 28,
   "id": "d0b28c77-0d35-42e2-afbb-0635e3c15dc4",
   "metadata": {},
   "outputs": [
    {
     "name": "stdout",
     "output_type": "stream",
     "text": [
      "{'name': '유관순', 'birth': 2001, 'addr': 'Seoul'} <class 'dict'> 3\n"
     ]
    }
   ],
   "source": [
    "#dictionary : {key:value, key:value\n",
    "D1={'name':'유관순', 'birth':2001, 'addr':'Seoul'}\n",
    "print(D1, type(D1),len(D1))"
   ]
  },
  {
   "cell_type": "code",
   "execution_count": 30,
   "id": "141fdbfb-1c21-4f51-9ee1-f2fa1a713e1d",
   "metadata": {},
   "outputs": [
    {
     "name": "stdout",
     "output_type": "stream",
     "text": [
      "{'name': '강감찬', 'birth': 2001, 'addr': 'Seoul'}\n"
     ]
    }
   ],
   "source": [
    "(D1['name'])='강감찬'\n",
    "print(D1)"
   ]
  },
  {
   "cell_type": "code",
   "execution_count": 39,
   "id": "9c487901-9726-4666-b03d-6064d025c94a",
   "metadata": {},
   "outputs": [
    {
     "name": "stdout",
     "output_type": "stream",
     "text": [
      "{'name': '강감찬', 'birth': 2001, 'addr': 'Seoul', 'weigt': 70, 'height': 175, 'hobby': ['탁구', '등산'], 'family': ['Dad', 'Mom', 'sister'], 'weight': 70}\n"
     ]
    }
   ],
   "source": [
    "D1['weight']=70\n",
    "print(D1)"
   ]
  },
  {
   "cell_type": "code",
   "execution_count": 40,
   "id": "b0f2084d-afd6-4599-a669-c718d5a1f687",
   "metadata": {},
   "outputs": [
    {
     "name": "stdout",
     "output_type": "stream",
     "text": [
      "{'name': '강감찬', 'birth': 2001, 'addr': 'Seoul', 'weigt': 70, 'height': 175, 'hobby': '농구', 'family': ['Dad', 'Mom', 'sister'], 'weight': 70}\n"
     ]
    }
   ],
   "source": [
    "D1.update({'height':175, 'hobby':'농구'})\n",
    "print(D1)"
   ]
  },
  {
   "cell_type": "code",
   "execution_count": 41,
   "id": "6bc9e522-d8b2-4952-a5a1-2cca6cd04969",
   "metadata": {},
   "outputs": [
    {
     "name": "stdout",
     "output_type": "stream",
     "text": [
      "{'name': '강감찬', 'birth': 2001, 'addr': 'Seoul', 'weigt': 70, 'height': 175, 'hobby': '농구', 'family': ['Dad', 'Mom', 'sister'], 'weight': 70}\n"
     ]
    }
   ],
   "source": [
    "D1['family']=['Dad','Mom','sister']\n",
    "print(D1)"
   ]
  },
  {
   "cell_type": "code",
   "execution_count": 42,
   "id": "662b8ab5-2324-4424-83eb-57eda5078b6f",
   "metadata": {},
   "outputs": [
    {
     "name": "stdout",
     "output_type": "stream",
     "text": [
      "dict_keys(['name', 'birth', 'addr', 'weigt', 'height', 'hobby', 'family', 'weight'])\n"
     ]
    }
   ],
   "source": [
    "print(D1.keys())"
   ]
  },
  {
   "cell_type": "code",
   "execution_count": 43,
   "id": "be42413a-6544-4629-a3af-28db8b78f2b9",
   "metadata": {},
   "outputs": [
    {
     "name": "stdout",
     "output_type": "stream",
     "text": [
      "dict_values(['강감찬', 2001, 'Seoul', 70, 175, '농구', ['Dad', 'Mom', 'sister'], 70])\n"
     ]
    }
   ],
   "source": [
    "print(D1.values())"
   ]
  },
  {
   "cell_type": "code",
   "execution_count": 44,
   "id": "fa68c6a7-0bf5-440b-8a1a-122bc545d388",
   "metadata": {},
   "outputs": [
    {
     "name": "stdout",
     "output_type": "stream",
     "text": [
      "dict_items([('name', '강감찬'), ('birth', 2001), ('addr', 'Seoul'), ('weigt', 70), ('height', 175), ('hobby', '농구'), ('family', ['Dad', 'Mom', 'sister']), ('weight', 70)])\n"
     ]
    }
   ],
   "source": [
    "print(D1.items())"
   ]
  },
  {
   "cell_type": "code",
   "execution_count": 45,
   "id": "27b86259-7f19-438a-9a9e-b903b7107874",
   "metadata": {},
   "outputs": [
    {
     "name": "stdout",
     "output_type": "stream",
     "text": [
      "{'name': '강감찬', 'birth': 2001, 'addr': 'Seoul', 'weigt': 70, 'height': 175, 'hobby': ['탁구', '등산'], 'family': ['Dad', 'Mom', 'sister'], 'weight': 70}\n"
     ]
    }
   ],
   "source": [
    "D1['hobby']=['탁구','등산']\n",
    "print(D1)"
   ]
  },
  {
   "cell_type": "code",
   "execution_count": 50,
   "id": "0e685726-5bf0-41e2-b5ee-17600dd7d00e",
   "metadata": {},
   "outputs": [
    {
     "name": "stdout",
     "output_type": "stream",
     "text": [
      "{'name': '강감찬', 'birth': 2001, 'addr': 'Seoul', 'height': 175, 'hobby': ['탁구', '등산'], 'family': ['Dad', 'Mom', 'sister']}\n"
     ]
    }
   ],
   "source": [
    "del D1['weight\n",
    "print(D1)"
   ]
  },
  {
   "cell_type": "code",
   "execution_count": 48,
   "id": "1ee58685-40bc-43af-8452-17c4b8a94d96",
   "metadata": {},
   "outputs": [
    {
     "name": "stdout",
     "output_type": "stream",
     "text": [
      "{'name': '강감찬', 'birth': 2001, 'addr': 'Seoul', 'height': 175, 'hobby': ['탁구', '등산'], 'family': ['Dad', 'Mom', 'sister']}\n"
     ]
    }
   ],
   "source": [
    "del D1['weigt']\n",
    "print(D1)"
   ]
  },
  {
   "cell_type": "code",
   "execution_count": 2,
   "id": "87d76d34-90ee-414f-a944-2f59071164a8",
   "metadata": {},
   "outputs": [
    {
     "name": "stdin",
     "output_type": "stream",
     "text": [
      "가위, 바위, 보 중에서 선택하세요: 가위\n"
     ]
    },
    {
     "name": "stdout",
     "output_type": "stream",
     "text": [
      "당신의 선택 가위\n",
      "computer의 선택: 바위\n",
      "당신이 졌습니다.\n"
     ]
    }
   ],
   "source": [
    "import random\n",
    "choices=['가위','바위','보']\n",
    "selected = None\n",
    "while selected not in choices:\n",
    "    selected=input('가위, 바위, 보 중에서 선택하세요:')\n",
    "print('당신의 선택', selected)\n",
    "user=selected\n",
    "computer=random.choice(choices)\n",
    "print('computer의 선택:', computer)\n",
    "if user == computer:\n",
    "    print('무승부!!!')\n",
    "elif(user=='가위'and computer=='보')or(user=='바위'and computer=='가위')or(user=='보'and computer=='바위'):\n",
    "    print('당신이 이겼습니다!!')\n",
    "else:\n",
    "    print('당신이 졌습니다.')"
   ]
  },
  {
   "cell_type": "code",
   "execution_count": 8,
   "id": "96cb2cdc-e04f-462a-9eba-72483cffa209",
   "metadata": {},
   "outputs": [
    {
     "name": "stdin",
     "output_type": "stream",
     "text": [
      "가위, 바위, 보 중에서 선택해주세요: 가위\n"
     ]
    },
    {
     "name": "stdout",
     "output_type": "stream",
     "text": [
      "당신의 선택 가위\n",
      "컴퓨터의 선택 바위\n",
      "패배!!! 컴퓨터가 이겼습니다.\n"
     ]
    }
   ],
   "source": [
    "import random\n",
    "choices=['가위','바위','보']\n",
    "selected = None\n",
    "while selected not in choices:\n",
    "    selected=input('가위, 바위, 보 중에서 선택해주세요:')\n",
    "print('당신의 선택',selected)\n",
    "user=selected\n",
    "computer=random.choice(choices)\n",
    "print('컴퓨터의 선택', computer)\n",
    "if user==computer:\n",
    "    print('무승부!!!')\n",
    "elif (user=='가위'and computer=='보')or(user=='바위'and computer=='가위')or(user=='보'and computer=='바위'):\n",
    "    print('당신이 이겼습니다!!!')\n",
    "else:\n",
    "    print('패배!!! 컴퓨터가 이겼습니다.')"
   ]
  },
  {
   "cell_type": "code",
   "execution_count": 10,
   "id": "e27fcf8e-ca11-4bc0-9992-e990f68bcf29",
   "metadata": {},
   "outputs": [
    {
     "name": "stdout",
     "output_type": "stream",
     "text": [
      "True\n",
      "False\n",
      "False\n",
      "False\n"
     ]
    }
   ],
   "source": [
    "print(bool(-1))\n",
    "print(bool(0))\n",
    "print(bool(None))\n",
    "print(bool(''))"
   ]
  },
  {
   "cell_type": "code",
   "execution_count": 84,
   "id": "43ebe3ba-21d9-403a-8c7c-07c807c2017b",
   "metadata": {},
   "outputs": [
    {
     "name": "stdout",
     "output_type": "stream",
     "text": [
      "['김철수', '이영희', '김보배', '정도전', '최고야', '홍길동'] 6\n",
      "['김보배', '김철수', '이순신', '이영희', '정도전', '최고야', '홍길동']\n",
      "['홍길동', '최고야', '정도전', '이영희', '김철수', '김보배']\n",
      "이순신이 회원 아닙니다.\n"
     ]
    },
    {
     "name": "stdin",
     "output_type": "stream",
     "text": [
      "회원 이름을 입력하세요:  홍길동\n"
     ]
    },
    {
     "name": "stdout",
     "output_type": "stream",
     "text": [
      "홍길동 는 회원입니다.\n"
     ]
    }
   ],
   "source": [
    "students = ['김철수', '이영희', '김보배', '정도전', '최고야']\n",
    "students.append('홍길동')\n",
    "print(students, size)\n",
    "students.insert(2, '이순신')\n",
    "students.sort()\n",
    "print(students)\n",
    "students.remove('이순신')\n",
    "students.reverse()\n",
    "print(students)\n",
    "if '이순신' in students:\n",
    "    print('이순신이 회원입니다.')\n",
    "else:\n",
    "    print('이순신이 회원 아닙니다.')\n",
    "while True:\n",
    "    name = input('회원 이름을 입력하세요: ')\n",
    "    if name in students:\n",
    "         print(name,'는 회원입니다.')\n",
    "    break;\n",
    "else:\n",
    "        print('입력이 잘못 되었어요. 데이터를 다시 입력하세요.')\n"
   ]
  },
  {
   "cell_type": "code",
   "execution_count": 91,
   "id": "718001aa-b935-4082-a55a-34f84b37fb00",
   "metadata": {},
   "outputs": [
    {
     "name": "stdin",
     "output_type": "stream",
     "text": [
      "주문메뉴 아메리카노, 유자차, 아이스티 중에서 선택하세요:  홍차\n",
      "주문메뉴 아메리카노, 유자차, 아이스티 중에서 선택하세요:  아이스티\n"
     ]
    },
    {
     "name": "stdout",
     "output_type": "stream",
     "text": [
      "주문 내역: 아이스티\n",
      "4000 원\n"
     ]
    }
   ],
   "source": [
    "#카페 메뉴 아메리카노 유자차 아이스티 출력 주문(주문오류 처리) 딕셔너리 사용\n",
    "menu_prices = {'아메리카노': 3000,'유자차': 5000,'아이스티': 4000}\n",
    "\n",
    "menu = ''\n",
    "while menu not in menu_prices:\n",
    "    menu = input('주문메뉴 아메리카노, 유자차, 아이스티 중에서 선택하세요: ')\n",
    "\n",
    "print('주문 내역:', menu)\n",
    "print(menu_prices[menu],'원')\n"
   ]
  }
 ],
 "metadata": {
  "kernelspec": {
   "display_name": "Python 3 (ipykernel)",
   "language": "python",
   "name": "python3"
  },
  "language_info": {
   "codemirror_mode": {
    "name": "ipython",
    "version": 3
   },
   "file_extension": ".py",
   "mimetype": "text/x-python",
   "name": "python",
   "nbconvert_exporter": "python",
   "pygments_lexer": "ipython3",
   "version": "3.12.4"
  }
 },
 "nbformat": 4,
 "nbformat_minor": 5
}
