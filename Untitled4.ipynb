{
 "cells": [
  {
   "cell_type": "code",
   "execution_count": 12,
   "id": "bd5df32f-b674-438d-b98b-93f3cdf18426",
   "metadata": {},
   "outputs": [
    {
     "name": "stdout",
     "output_type": "stream",
     "text": [
      "메뉴판\n",
      "아메리카노, 유자차, 아이스티\n"
     ]
    },
    {
     "name": "stdin",
     "output_type": "stream",
     "text": [
      "주문할 메뉴를 선택해주세요: 아이스티\n"
     ]
    },
    {
     "name": "stdout",
     "output_type": "stream",
     "text": [
      "주문내역: 아이스티 prices[order]원\n"
     ]
    }
   ],
   "source": [
    "order_menu=['아메리카노','유자차','아이스티']\n",
    "print('메뉴판\\n아메리카노, 유자차, 아이스티')\n",
    "a='주문내역:'\n",
    "prices={'아메리카노':4500,'유자차':5000,'아이스티':5500}\n",
    "order=input('주문할 메뉴를 선택해주세요:')\n",
    "while order not in order_menu:\n",
    "    order=input('아메리카노, 유자차, 아이스티 중에서 선택해주세요:')\n",
    "print(a,order,prices[order]'원')"
   ]
  }
 ],
 "metadata": {
  "kernelspec": {
   "display_name": "Python 3 (ipykernel)",
   "language": "python",
   "name": "python3"
  },
  "language_info": {
   "codemirror_mode": {
    "name": "ipython",
    "version": 3
   },
   "file_extension": ".py",
   "mimetype": "text/x-python",
   "name": "python",
   "nbconvert_exporter": "python",
   "pygments_lexer": "ipython3",
   "version": "3.12.4"
  }
 },
 "nbformat": 4,
 "nbformat_minor": 5
}
