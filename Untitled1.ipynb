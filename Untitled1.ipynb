{
 "cells": [
  {
   "cell_type": "code",
   "execution_count": 2,
   "id": "e502ec46-ad40-491c-8a48-ece8ee8ae3fd",
   "metadata": {},
   "outputs": [
    {
     "name": "stdin",
     "output_type": "stream",
     "text": [
      "이름을 입력하세요: 홍길동\n"
     ]
    },
    {
     "name": "stdout",
     "output_type": "stream",
     "text": [
      "홍길동 은 회원이 아닙니다.\n"
     ]
    }
   ],
   "source": [
    "#학생의 명단(5명)을 만드세요(멤버 연산자 실습) \n",
    "#입력된 이름이 명단에 있다면 해당 학생의 이름을 출력하고(\"ㅇㅇㅇ은 회원입니다\" 출력)\n",
    "#그렇지 않을 경우는 \"ㅇㅇㅇ은 회원이 아닙니다.\" 출력하세요.\n",
    "\n",
    "\n",
    "list=['최수희','정재민','박범근','박정배','조민준']\n",
    "name=input('이름을 입력하세요:')\n",
    "if name in list:\n",
    "    print(name,'은 회원입니다.')\n",
    "else:\n",
    "    print(name,'은 회원이 아닙니다.')\n",
    "\n",
    "\n",
    "\n"
   ]
  },
  {
   "cell_type": "code",
   "execution_count": 4,
   "id": "086f561e-d757-49e1-9e74-618c94b3db87",
   "metadata": {},
   "outputs": [
    {
     "name": "stdin",
     "output_type": "stream",
     "text": [
      "이름을 입력하세요:  농담\n"
     ]
    },
    {
     "name": "stdout",
     "output_type": "stream",
     "text": [
      "농담은 회원이 아닙니다.\n"
     ]
    }
   ],
   "source": [
    "students = [\"홍길동\", \"김철수\", \"박정배\", \"최수희\", \"정재민\"]\n",
    "input_name = input(\"이름을 입력하세요: \")\n",
    "if input_name in students:\n",
    "    print(f\"{input_name}은 회원입니다.\")\n",
    "else:\n",
    "    print(f\"{input_name}은 회원이 아닙니다.\")"
   ]
  },
  {
   "cell_type": "code",
   "execution_count": 8,
   "id": "0ed7de62-0d42-44f9-8710-cb767c456735",
   "metadata": {},
   "outputs": [
    {
     "name": "stdin",
     "output_type": "stream",
     "text": [
      "당신의 나이를 입력하세요: 23\n",
      "현재 년도를 입력하세요: 2024\n"
     ]
    },
    {
     "name": "stdout",
     "output_type": "stream",
     "text": [
      "당신의 나이는 23 살 입니다.\n",
      "현재 년도는 2024 년 입니다.\n",
      "10년후 당신의 나이는 33 살 입니다.\n",
      "10년후 년도는 2034 년 입니다.\n"
     ]
    }
   ],
   "source": [
    "#10년 뒤에 당신의 나이와 그때의 년도를 출력하는 프로그램\n",
    "\n",
    "age=int(input('당신의 나이를 입력하세요:'))\n",
    "year=int(input('현재 년도를 입력하세요:'))\n",
    "print('당신의 나이는',age,'살 입니다.')\n",
    "print('현재 년도는',year,'년 입니다.')\n",
    "print('10년후 당신의 나이는',age+10,'살 입니다.')\n",
    "print('10년후 년도는',year+10,'년 입니다.')"
   ]
  },
  {
   "cell_type": "code",
   "execution_count": 12,
   "id": "cc698980-dd86-40a4-9afa-b767a145a09b",
   "metadata": {},
   "outputs": [
    {
     "name": "stdin",
     "output_type": "stream",
     "text": [
      "데이터를 입력하세요: 25\n"
     ]
    },
    {
     "name": "stdout",
     "output_type": "stream",
     "text": [
      "몫 2.5\n",
      "몫 2\n",
      "나머지 5\n"
     ]
    }
   ],
   "source": [
    "#데이터를 입력 받아서 10로 나누었을 때 몫과 나머지를 구하는 프로그램(산술연산)\n",
    "data=int(input('데이터를 입력하세요:'))\n",
    "print('몫',data/10) #실수 나눗셈의 몫\n",
    "print('몫',data//10) #정수 나눗셈\n",
    "print('나머지',data%10)"
   ]
  },
  {
   "cell_type": "code",
   "execution_count": 15,
   "id": "0f380c50-01b7-4359-b6c5-b49ef1045654",
   "metadata": {},
   "outputs": [
    {
     "name": "stdin",
     "output_type": "stream",
     "text": [
      "수학 성적을 입력하세요: 50\n",
      "영어 성적을 입력하세요: 50\n"
     ]
    },
    {
     "name": "stdout",
     "output_type": "stream",
     "text": [
      "You need more effort\n"
     ]
    }
   ],
   "source": [
    "#논리/관계 연산자 실습\n",
    "#영어성적과 수학성적을 입력 받아서 영어수학 성적이 모두 90 이상이면 great\n",
    "#영어, 수학 중 하나만 90 이상이면 Good\n",
    "#그렇지 않으면 You need more effort 출력\n",
    "math=int(input('수학 성적을 입력하세요:'))\n",
    "eng=int(input('영어 성적을 입력하세요:'))\n",
    "if math>=90 and eng>=90:\n",
    "    print('Great')\n",
    "elif math>=90 or eng>=90:\n",
    "    print('Good')\n",
    "else:\n",
    "    print('You need more effort')"
   ]
  },
  {
   "cell_type": "code",
   "execution_count": 29,
   "id": "de2e8f27-e951-4986-9fc0-42797c250c93",
   "metadata": {},
   "outputs": [
    {
     "name": "stdin",
     "output_type": "stream",
     "text": [
      "나이를 입력하세요: 5\n"
     ]
    },
    {
     "name": "stdout",
     "output_type": "stream",
     "text": [
      "어린이 할인이 가능합니다.\n",
      "입장을 환영합니다.\n"
     ]
    }
   ],
   "source": [
    "#나이를 입력 받아서\n",
    "#8세 미만이면 \"어린이 할인이 가능합니다.\"를 출력하고\n",
    "#18세 미만이면 \"청소년 할인 가능합니다.\"를 출력하고\n",
    "#18세 이상이면 \" 청소년 할인이 아닙니다.\"를 출력하고\n",
    "#모든 경우에 \"입장을 환영합니다.\"를 출력하세요.\n",
    "\n",
    "age=int(input('나이를 입력하세요:'))\n",
    "if age>=18:\n",
    "    print('청소년 할인이 아닙니다.')\n",
    "elif age<18 and age>=8:\n",
    "    print('청소년 할인 가능합니다.')\n",
    "else:\n",
    "    print('어린이 할인이 가능합니다.')\n",
    "print('입장을 환영합니다.')\n",
    "    "
   ]
  },
  {
   "cell_type": "code",
   "execution_count": 34,
   "id": "2853ecf7-97aa-404f-83d9-f97dc9d99806",
   "metadata": {},
   "outputs": [
    {
     "name": "stdin",
     "output_type": "stream",
     "text": [
      "가위, 바위, 보 중에서 선택하세요. 가위\n"
     ]
    },
    {
     "name": "stdout",
     "output_type": "stream",
     "text": [
      "당신의 선택한 값은: 가위\n",
      "컴퓨터의 선택은 보\n",
      "승리!!\n"
     ]
    }
   ],
   "source": [
    "#2-1. 가위, 바위, 보 게임\n",
    "import random\n",
    "rsp=['가위','바위','보']\n",
    "\n",
    "selected = None\n",
    "while selected not in rsp:\n",
    "    selected=input('가위, 바위, 보 중에서 선택하세요.')\n",
    "print('당신의 선택한 값은:',selected)\n",
    "user=selected\n",
    "\n",
    "computer=random.choice(rsp)\n",
    "print('컴퓨터의 선택은', computer)\n",
    "\n",
    "if user==computer:\n",
    "    print('무승부!!')\n",
    "elif(user=='가위' and computer=='보')or(user=='주먹' and computer=='가위')or(user=='보' and computer=='주먹'):\n",
    "    print('승리!!')\n",
    "else:\n",
    "    print('패배!!')"
   ]
  },
  {
   "cell_type": "code",
   "execution_count": 35,
   "id": "fca27b63-b93e-4a2d-9e88-ab6f80802bd9",
   "metadata": {},
   "outputs": [
    {
     "name": "stdin",
     "output_type": "stream",
     "text": [
      "가위, 바위, 보 중에서 선택하세요. d\n",
      "가위, 바위, 보 중에서 선택하세요. 가위 \n",
      "가위, 바위, 보 중에서 선택하세요. 가위\n"
     ]
    },
    {
     "name": "stdout",
     "output_type": "stream",
     "text": [
      "당신의 선택은 가위\n",
      "컴퓨터의 선택은 보\n",
      "승리!!\n"
     ]
    }
   ],
   "source": [
    "#가위 바위 보 프로그램\n",
    "import random\n",
    "rsp=['가위','바위','보']\n",
    "\n",
    "selected =None\n",
    "\n",
    "while selected not in rsp:\n",
    "    selected=input('가위, 바위, 보 중에서 선택하세요.')\n",
    "print('당신의 선택은',selected)\n",
    "user=selected\n",
    "\n",
    "computer=random.choice(rsp)\n",
    "print('컴퓨터의 선택은', computer)\n",
    "\n",
    "if user==computer:\n",
    "    print('무승부!!')\n",
    "elif(user=='가위' and computer=='보')or(user=='주먹' and computer=='가위')or(user=='보' and computer=='주먹'):\n",
    "    print('승리!!')\n",
    "else:\n",
    "    print('패배!!')"
   ]
  },
  {
   "cell_type": "code",
   "execution_count": 37,
   "id": "ed891e2a-9fe2-46dd-a7fb-3e2e5c85201c",
   "metadata": {},
   "outputs": [
    {
     "name": "stdin",
     "output_type": "stream",
     "text": [
      "아메리카노, 유자차, 아이스티 중에서 선택해주세요. 박범근\n",
      "아메리카노, 유자차, 아이스티 중에서 선택해주세요. 유자차\n"
     ]
    },
    {
     "name": "stdout",
     "output_type": "stream",
     "text": [
      "주문 내역: 유자차\n",
      "5000원\n"
     ]
    }
   ],
   "source": [
    "#카페 메뉴(아메리카노, 유자차, 아이스티) 출력 주문오류처리,영수증\n",
    "menu=['아메리카노','유자차','아이스티']\n",
    "while menu not in ['아메리카노','유자차','아이스티']:\n",
    "    menu=input('아메리카노, 유자차, 아이스티 중에서 선택해주세요.')\n",
    "print('주문 내역:',menu)\n",
    "if (menu=='아메리카노'):\n",
    "    print('3000원')\n",
    "elif (menu=='유자차'):\n",
    "    print('5000원')\n",
    "else:\n",
    "    print('4000원')\n",
    "\n",
    "               "
   ]
  },
  {
   "cell_type": "code",
   "execution_count": 38,
   "id": "9361a955-34b2-46a5-b8e2-d16b81188f0b",
   "metadata": {},
   "outputs": [
    {
     "name": "stdin",
     "output_type": "stream",
     "text": [
      "당신의 이름을 입력하세요: 박범근병신\n"
     ]
    },
    {
     "name": "stdout",
     "output_type": "stream",
     "text": [
      "당신의 이름은박범근병신입니다\n"
     ]
    }
   ],
   "source": [
    "#format사용\n",
    "name=input('당신의 이름을 입력하세요:')\n",
    "print('당신의 이름은{}입니다'.format(name))"
   ]
  }
 ],
 "metadata": {
  "kernelspec": {
   "display_name": "Python 3 (ipykernel)",
   "language": "python",
   "name": "python3"
  },
  "language_info": {
   "codemirror_mode": {
    "name": "ipython",
    "version": 3
   },
   "file_extension": ".py",
   "mimetype": "text/x-python",
   "name": "python",
   "nbconvert_exporter": "python",
   "pygments_lexer": "ipython3",
   "version": "3.12.4"
  }
 },
 "nbformat": 4,
 "nbformat_minor": 5
}
