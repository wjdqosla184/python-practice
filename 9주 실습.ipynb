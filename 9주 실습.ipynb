{
 "cells": [
  {
   "cell_type": "code",
   "execution_count": 1,
   "id": "ccf869c5-0d8a-47cb-b5a7-a81d4bf76f58",
   "metadata": {},
   "outputs": [
    {
     "name": "stdout",
     "output_type": "stream",
     "text": [
      "2\n",
      "5\n",
      "12\n",
      "23\n"
     ]
    }
   ],
   "source": [
    "#1-1복습누적 덧셈기능을 하는 함수를 정의하고\n",
    "#이를 사용하여 2,3,7,11을 덧셈한 결과를 화면에 출력하라\n",
    "r1 = 0\n",
    "def add1(num):\n",
    "    global r1\n",
    "    r1 += num\n",
    "    return r1\n",
    "print(add1(2))\n",
    "print(add1(3))\n",
    "print(add1(7))\n",
    "print(add1(11))"
   ]
  },
  {
   "cell_type": "code",
   "execution_count": 4,
   "id": "647476be-d874-463a-b7d4-e244993c6f21",
   "metadata": {},
   "outputs": [
    {
     "name": "stdout",
     "output_type": "stream",
     "text": [
      "21\n",
      "45\n",
      "72\n",
      "누적 덧셈기 1: 100\n",
      "2\n",
      "5\n",
      "12\n",
      "누적 덧셈기 2: 23\n"
     ]
    }
   ],
   "source": [
    "#1-2복습 누적 덧셈기능을 하는 클래스를 정의하고\n",
    "#누적 덧셈기 1은 21부터 3,4의 배수 4개을 덧셈한 결과를 화면에 출력하라\n",
    "#누적 덧셈기 2는 2,3,7,11을 덧셈한 결과를 화면에 출력하라\n",
    "class Calculator():\n",
    "    def __init__(self):\n",
    "        self.result =0\n",
    "\n",
    "    def add(self, num):\n",
    "        self.result += num\n",
    "        return self.result\n",
    "\n",
    "cal1=Calculator()\n",
    "cal2=Calculator()\n",
    "\n",
    "print(cal1.add(21))\n",
    "print(cal1.add(24))\n",
    "print(cal1.add(27))\n",
    "print(\"누적 덧셈기 1:\",cal1.add(28))\n",
    "\n",
    "print(cal2.add(2))\n",
    "print(cal2.add(3))\n",
    "print(cal2.add(7))\n",
    "print(\"누적 덧셈기 2:\",cal2.add(11))"
   ]
  },
  {
   "cell_type": "code",
   "execution_count": 5,
   "id": "5b75bfff-6a1e-468c-aacd-796c4d18b594",
   "metadata": {},
   "outputs": [
    {
     "name": "stdout",
     "output_type": "stream",
     "text": [
      "0   -20\n",
      "1   -10\n",
      "2    10\n",
      "3    20\n",
      "dtype: int64\n"
     ]
    }
   ],
   "source": [
    "#실습 판다스 1. Series : 1월~4월 평균 온도 생성\n",
    "#예 1월~4월 평균온도(-20, -10, 10, 20)\n",
    "import pandas as pd\n",
    "temp=pd.Series([-20, -10, 10, 20])\n",
    "print(temp)"
   ]
  },
  {
   "cell_type": "code",
   "execution_count": 21,
   "id": "6b6aa488-ed14-46cc-8f36-dcb3f3ac2ab0",
   "metadata": {},
   "outputs": [
    {
     "data": {
      "text/plain": [
       "-10"
      ]
     },
     "execution_count": 21,
     "metadata": {},
     "output_type": "execute_result"
    }
   ],
   "source": [
    "temp[1] #2월 평균기온"
   ]
  },
  {
   "cell_type": "code",
   "execution_count": 14,
   "id": "dee75ef1-0d42-425d-9e3c-75bc261d7455",
   "metadata": {},
   "outputs": [
    {
     "name": "stdout",
     "output_type": "stream",
     "text": [
      "Jan   -20\n",
      "Feb   -10\n",
      "Mar    10\n",
      "Apr    20\n",
      "dtype: int64\n"
     ]
    }
   ],
   "source": [
    "import pandas as pd\n",
    "temp2 = pd.Series([-15, -5, 5, 15], index=['Jan', 'Feb', 'Mar', 'Apr'])\n",
    "print(temp)"
   ]
  },
  {
   "cell_type": "code",
   "execution_count": 25,
   "id": "a0ce95a2-d2d1-477c-81d7-e6b96ebc9d66",
   "metadata": {},
   "outputs": [
    {
     "name": "stdout",
     "output_type": "stream",
     "text": [
      "1111    박정배\n",
      "2222    조민준\n",
      "3333    최수희\n",
      "4444    정재민\n",
      "5555    박범근\n",
      "dtype: object\n"
     ]
    }
   ],
   "source": [
    "#사원번호 4자리(인덱스)와 이름을 시리즈로 5개의 데이터를 생성하라\n",
    "import pandas as pd\n",
    "temp3 = pd.Series(['박정배', '조민준', '최수희', '정재민', '박범근'], index=[1111, 2222, 3333, 4444, 5555])\n",
    "print(temp3)"
   ]
  },
  {
   "cell_type": "code",
   "execution_count": 26,
   "id": "5c8aa177-7e8b-4389-bb82-1f2286e8ae09",
   "metadata": {},
   "outputs": [
    {
     "data": {
      "text/html": [
       "<div>\n",
       "<style scoped>\n",
       "    .dataframe tbody tr th:only-of-type {\n",
       "        vertical-align: middle;\n",
       "    }\n",
       "\n",
       "    .dataframe tbody tr th {\n",
       "        vertical-align: top;\n",
       "    }\n",
       "\n",
       "    .dataframe thead th {\n",
       "        text-align: right;\n",
       "    }\n",
       "</style>\n",
       "<table border=\"1\" class=\"dataframe\">\n",
       "  <thead>\n",
       "    <tr style=\"text-align: right;\">\n",
       "      <th></th>\n",
       "      <th>name</th>\n",
       "      <th>Sex</th>\n",
       "      <th>age</th>\n",
       "      <th>height</th>\n",
       "    </tr>\n",
       "  </thead>\n",
       "  <tbody>\n",
       "    <tr>\n",
       "      <th>0</th>\n",
       "      <td>Han_nit</td>\n",
       "      <td>Man</td>\n",
       "      <td>20</td>\n",
       "      <td>180</td>\n",
       "    </tr>\n",
       "    <tr>\n",
       "      <th>1</th>\n",
       "      <td>Han_la</td>\n",
       "      <td>Man</td>\n",
       "      <td>21</td>\n",
       "      <td>177</td>\n",
       "    </tr>\n",
       "    <tr>\n",
       "      <th>2</th>\n",
       "      <td>Han_na</td>\n",
       "      <td>Woman</td>\n",
       "      <td>20</td>\n",
       "      <td>160</td>\n",
       "    </tr>\n",
       "  </tbody>\n",
       "</table>\n",
       "</div>"
      ],
      "text/plain": [
       "      name    Sex age height\n",
       "0  Han_nit    Man  20    180\n",
       "1   Han_la    Man  21    177\n",
       "2   Han_na  Woman  20    160"
      ]
     },
     "execution_count": 26,
     "metadata": {},
     "output_type": "execute_result"
    }
   ],
   "source": [
    "#2 데이터 프레임 만들기\n",
    "#2-1 리스트 사용\n",
    "import pandas as pd\n",
    "\n",
    "list1=list([['Han_nit', 'Man', '20', '180'],\n",
    "            ['Han_la', 'Man', '21', '177'],\n",
    "            ['Han_na', 'Woman', '20', '160']\n",
    "           ])\n",
    "col_names=['name', 'Sex', 'age', 'height']\n",
    "pd.DataFrame(list1, columns=col_names)"
   ]
  },
  {
   "cell_type": "code",
   "execution_count": 27,
   "id": "6f84ccb4-c408-42a2-a0c2-3a3f40217f16",
   "metadata": {},
   "outputs": [
    {
     "data": {
      "text/html": [
       "<div>\n",
       "<style scoped>\n",
       "    .dataframe tbody tr th:only-of-type {\n",
       "        vertical-align: middle;\n",
       "    }\n",
       "\n",
       "    .dataframe tbody tr th {\n",
       "        vertical-align: top;\n",
       "    }\n",
       "\n",
       "    .dataframe thead th {\n",
       "        text-align: right;\n",
       "    }\n",
       "</style>\n",
       "<table border=\"1\" class=\"dataframe\">\n",
       "  <thead>\n",
       "    <tr style=\"text-align: right;\">\n",
       "      <th></th>\n",
       "      <th>name</th>\n",
       "      <th>Set</th>\n",
       "      <th>age</th>\n",
       "      <th>height</th>\n",
       "    </tr>\n",
       "  </thead>\n",
       "  <tbody>\n",
       "    <tr>\n",
       "      <th>0</th>\n",
       "      <td>Han_bit</td>\n",
       "      <td>Man</td>\n",
       "      <td>20</td>\n",
       "      <td>180</td>\n",
       "    </tr>\n",
       "    <tr>\n",
       "      <th>1</th>\n",
       "      <td>Han_la</td>\n",
       "      <td>Man</td>\n",
       "      <td>21</td>\n",
       "      <td>177</td>\n",
       "    </tr>\n",
       "    <tr>\n",
       "      <th>2</th>\n",
       "      <td>Han_na</td>\n",
       "      <td>Woman</td>\n",
       "      <td>20</td>\n",
       "      <td>160</td>\n",
       "    </tr>\n",
       "  </tbody>\n",
       "</table>\n",
       "</div>"
      ],
      "text/plain": [
       "      name    Set age height\n",
       "0  Han_bit    Man  20    180\n",
       "1   Han_la    Man  21    177\n",
       "2   Han_na  Woman  20    160"
      ]
     },
     "execution_count": 27,
     "metadata": {},
     "output_type": "execute_result"
    }
   ],
   "source": [
    "# 딕셔너리 사용\n",
    "import pandas as pd\n",
    "dict1={'name':{0:'Han_bit', 1:'Han_la', 2:'Han_na'},\n",
    "       'Set':{0:'Man', 1:'Man', 2:'Woman'},\n",
    "       'age':{0:'20', 1:'21', 2:'20'},\n",
    "       'height':{0:'180', 1:'177', 2:'160'}\n",
    "      }\n",
    "pd.DataFrame(dict1)"
   ]
  },
  {
   "cell_type": "code",
   "execution_count": 28,
   "id": "e6be6956-cf3a-449b-8782-7353b34bfe33",
   "metadata": {},
   "outputs": [
    {
     "data": {
      "text/html": [
       "<div>\n",
       "<style scoped>\n",
       "    .dataframe tbody tr th:only-of-type {\n",
       "        vertical-align: middle;\n",
       "    }\n",
       "\n",
       "    .dataframe tbody tr th {\n",
       "        vertical-align: top;\n",
       "    }\n",
       "\n",
       "    .dataframe thead th {\n",
       "        text-align: right;\n",
       "    }\n",
       "</style>\n",
       "<table border=\"1\" class=\"dataframe\">\n",
       "  <thead>\n",
       "    <tr style=\"text-align: right;\">\n",
       "      <th></th>\n",
       "      <th>name</th>\n",
       "      <th>Sex</th>\n",
       "      <th>age</th>\n",
       "      <th>height</th>\n",
       "    </tr>\n",
       "  </thead>\n",
       "  <tbody>\n",
       "    <tr>\n",
       "      <th>0</th>\n",
       "      <td>Han_nit</td>\n",
       "      <td>Man</td>\n",
       "      <td>20</td>\n",
       "      <td>180</td>\n",
       "    </tr>\n",
       "    <tr>\n",
       "      <th>1</th>\n",
       "      <td>Han_la</td>\n",
       "      <td>Man</td>\n",
       "      <td>21</td>\n",
       "      <td>177</td>\n",
       "    </tr>\n",
       "    <tr>\n",
       "      <th>2</th>\n",
       "      <td>Han_na</td>\n",
       "      <td>Woman</td>\n",
       "      <td>20</td>\n",
       "      <td>160</td>\n",
       "    </tr>\n",
       "  </tbody>\n",
       "</table>\n",
       "</div>"
      ],
      "text/plain": [
       "      name    Sex age height\n",
       "0  Han_nit    Man  20    180\n",
       "1   Han_la    Man  21    177\n",
       "2   Han_na  Woman  20    160"
      ]
     },
     "execution_count": 28,
     "metadata": {},
     "output_type": "execute_result"
    }
   ],
   "source": [
    "# 넘파이 배열로 DF생성\n",
    "import numpy as np\n",
    "import pandas as pd\n",
    "\n",
    "arr1=np.array([['Han_nit', 'Man', '20', '180'],\n",
    "            ['Han_la', 'Man', '21', '177'],\n",
    "            ['Han_na', 'Woman', '20', '160']\n",
    "           ])\n",
    "col_names=['name', 'Sex', 'age', 'height'] #배열이기 때문에 col_names을 사용\n",
    "pd.DataFrame(arr1, columns=col_names)"
   ]
  },
  {
   "cell_type": "code",
   "execution_count": 29,
   "id": "cba83471-1f67-4a49-914c-9ef87322b5f1",
   "metadata": {},
   "outputs": [
    {
     "data": {
      "text/html": [
       "<div>\n",
       "<style scoped>\n",
       "    .dataframe tbody tr th:only-of-type {\n",
       "        vertical-align: middle;\n",
       "    }\n",
       "\n",
       "    .dataframe tbody tr th {\n",
       "        vertical-align: top;\n",
       "    }\n",
       "\n",
       "    .dataframe thead th {\n",
       "        text-align: right;\n",
       "    }\n",
       "</style>\n",
       "<table border=\"1\" class=\"dataframe\">\n",
       "  <thead>\n",
       "    <tr style=\"text-align: right;\">\n",
       "      <th></th>\n",
       "      <th>name</th>\n",
       "      <th>Sex</th>\n",
       "      <th>age</th>\n",
       "      <th>height</th>\n",
       "    </tr>\n",
       "  </thead>\n",
       "  <tbody>\n",
       "    <tr>\n",
       "      <th>0</th>\n",
       "      <td>Han_bit</td>\n",
       "      <td>Man</td>\n",
       "      <td>20</td>\n",
       "      <td>180</td>\n",
       "    </tr>\n",
       "    <tr>\n",
       "      <th>1</th>\n",
       "      <td>Han_la</td>\n",
       "      <td>Man</td>\n",
       "      <td>21</td>\n",
       "      <td>177</td>\n",
       "    </tr>\n",
       "    <tr>\n",
       "      <th>2</th>\n",
       "      <td>Han_na</td>\n",
       "      <td>Woman</td>\n",
       "      <td>20</td>\n",
       "      <td>160</td>\n",
       "    </tr>\n",
       "  </tbody>\n",
       "</table>\n",
       "</div>"
      ],
      "text/plain": [
       "      name    Sex age height\n",
       "0  Han_bit    Man  20    180\n",
       "1   Han_la    Man  21    177\n",
       "2   Han_na  Woman  20    160"
      ]
     },
     "execution_count": 29,
     "metadata": {},
     "output_type": "execute_result"
    }
   ],
   "source": [
    "#4 CSV파일로 DF 생성\n",
    "import pandas as pd\n",
    "\n",
    "list1=list([['Han_bit', 'Man', '20', '180'],\n",
    "            ['Han_la', 'Man', '21', '177'],\n",
    "            ['Han_na', 'Woman', '20', '160']\n",
    "           ])\n",
    "col_names=['name', 'Sex', 'age', 'height']\n",
    "df=pd.DataFrame(list1, columns=col_names)\n",
    "df"
   ]
  },
  {
   "cell_type": "code",
   "execution_count": 31,
   "id": "3b8ff138-eafa-4384-b27f-68f83ad069ed",
   "metadata": {},
   "outputs": [
    {
     "data": {
      "text/html": [
       "<div>\n",
       "<style scoped>\n",
       "    .dataframe tbody tr th:only-of-type {\n",
       "        vertical-align: middle;\n",
       "    }\n",
       "\n",
       "    .dataframe tbody tr th {\n",
       "        vertical-align: top;\n",
       "    }\n",
       "\n",
       "    .dataframe thead th {\n",
       "        text-align: right;\n",
       "    }\n",
       "</style>\n",
       "<table border=\"1\" class=\"dataframe\">\n",
       "  <thead>\n",
       "    <tr style=\"text-align: right;\">\n",
       "      <th></th>\n",
       "      <th>name</th>\n",
       "      <th>Sex</th>\n",
       "      <th>age</th>\n",
       "      <th>height</th>\n",
       "    </tr>\n",
       "  </thead>\n",
       "  <tbody>\n",
       "    <tr>\n",
       "      <th>0</th>\n",
       "      <td>Han_bit</td>\n",
       "      <td>Man</td>\n",
       "      <td>20</td>\n",
       "      <td>180</td>\n",
       "    </tr>\n",
       "    <tr>\n",
       "      <th>1</th>\n",
       "      <td>Han_la</td>\n",
       "      <td>Man</td>\n",
       "      <td>21</td>\n",
       "      <td>177</td>\n",
       "    </tr>\n",
       "    <tr>\n",
       "      <th>2</th>\n",
       "      <td>Han_na</td>\n",
       "      <td>Woman</td>\n",
       "      <td>20</td>\n",
       "      <td>160</td>\n",
       "    </tr>\n",
       "  </tbody>\n",
       "</table>\n",
       "</div>"
      ],
      "text/plain": [
       "      name    Sex  age  height\n",
       "0  Han_bit    Man   20     180\n",
       "1   Han_la    Man   21     177\n",
       "2   Han_na  Woman   20     160"
      ]
     },
     "execution_count": 31,
     "metadata": {},
     "output_type": "execute_result"
    }
   ],
   "source": [
    "#CSV파일로 저장\n",
    "df.to_csv('./file.csv', header=True, index=False, encoding='utf-8')\n",
    "#CSV파일 읽기\n",
    "df2=pd.read_csv('./file.csv', sep=',')\n",
    "df2"
   ]
  },
  {
   "cell_type": "code",
   "execution_count": 37,
   "id": "aee545e3-7bfa-4f33-895b-c7f0f2243140",
   "metadata": {},
   "outputs": [
    {
     "data": {
      "text/plain": [
       "Index(['name', 'Sex', 'age', 'height'], dtype='object')"
      ]
     },
     "execution_count": 37,
     "metadata": {},
     "output_type": "execute_result"
    }
   ],
   "source": [
    "df2.columns"
   ]
  },
  {
   "cell_type": "code",
   "execution_count": 40,
   "id": "eb8c91f1-a7d3-4a4e-956a-932d0e0a352e",
   "metadata": {},
   "outputs": [
    {
     "data": {
      "text/html": [
       "<div>\n",
       "<style scoped>\n",
       "    .dataframe tbody tr th:only-of-type {\n",
       "        vertical-align: middle;\n",
       "    }\n",
       "\n",
       "    .dataframe tbody tr th {\n",
       "        vertical-align: top;\n",
       "    }\n",
       "\n",
       "    .dataframe thead th {\n",
       "        text-align: right;\n",
       "    }\n",
       "</style>\n",
       "<table border=\"1\" class=\"dataframe\">\n",
       "  <thead>\n",
       "    <tr style=\"text-align: right;\">\n",
       "      <th></th>\n",
       "      <th>age</th>\n",
       "      <th>height</th>\n",
       "    </tr>\n",
       "  </thead>\n",
       "  <tbody>\n",
       "    <tr>\n",
       "      <th>count</th>\n",
       "      <td>3.000000</td>\n",
       "      <td>3.000000</td>\n",
       "    </tr>\n",
       "    <tr>\n",
       "      <th>mean</th>\n",
       "      <td>20.333333</td>\n",
       "      <td>172.333333</td>\n",
       "    </tr>\n",
       "    <tr>\n",
       "      <th>std</th>\n",
       "      <td>0.577350</td>\n",
       "      <td>10.785793</td>\n",
       "    </tr>\n",
       "    <tr>\n",
       "      <th>min</th>\n",
       "      <td>20.000000</td>\n",
       "      <td>160.000000</td>\n",
       "    </tr>\n",
       "    <tr>\n",
       "      <th>25%</th>\n",
       "      <td>20.000000</td>\n",
       "      <td>168.500000</td>\n",
       "    </tr>\n",
       "    <tr>\n",
       "      <th>50%</th>\n",
       "      <td>20.000000</td>\n",
       "      <td>177.000000</td>\n",
       "    </tr>\n",
       "    <tr>\n",
       "      <th>75%</th>\n",
       "      <td>20.500000</td>\n",
       "      <td>178.500000</td>\n",
       "    </tr>\n",
       "    <tr>\n",
       "      <th>max</th>\n",
       "      <td>21.000000</td>\n",
       "      <td>180.000000</td>\n",
       "    </tr>\n",
       "  </tbody>\n",
       "</table>\n",
       "</div>"
      ],
      "text/plain": [
       "             age      height\n",
       "count   3.000000    3.000000\n",
       "mean   20.333333  172.333333\n",
       "std     0.577350   10.785793\n",
       "min    20.000000  160.000000\n",
       "25%    20.000000  168.500000\n",
       "50%    20.000000  177.000000\n",
       "75%    20.500000  178.500000\n",
       "max    21.000000  180.000000"
      ]
     },
     "execution_count": 40,
     "metadata": {},
     "output_type": "execute_result"
    }
   ],
   "source": [
    "df2.describe()"
   ]
  },
  {
   "cell_type": "code",
   "execution_count": 38,
   "id": "e629762f-3c04-4891-b19f-a398569bf830",
   "metadata": {},
   "outputs": [
    {
     "data": {
      "text/html": [
       "<div>\n",
       "<style scoped>\n",
       "    .dataframe tbody tr th:only-of-type {\n",
       "        vertical-align: middle;\n",
       "    }\n",
       "\n",
       "    .dataframe tbody tr th {\n",
       "        vertical-align: top;\n",
       "    }\n",
       "\n",
       "    .dataframe thead th {\n",
       "        text-align: right;\n",
       "    }\n",
       "</style>\n",
       "<table border=\"1\" class=\"dataframe\">\n",
       "  <thead>\n",
       "    <tr style=\"text-align: right;\">\n",
       "      <th></th>\n",
       "      <th>name</th>\n",
       "      <th>Sex</th>\n",
       "      <th>age</th>\n",
       "      <th>height</th>\n",
       "    </tr>\n",
       "  </thead>\n",
       "  <tbody>\n",
       "    <tr>\n",
       "      <th>0</th>\n",
       "      <td>Han_bit</td>\n",
       "      <td>Man</td>\n",
       "      <td>20</td>\n",
       "      <td>180</td>\n",
       "    </tr>\n",
       "    <tr>\n",
       "      <th>1</th>\n",
       "      <td>Han_la</td>\n",
       "      <td>Man</td>\n",
       "      <td>21</td>\n",
       "      <td>177</td>\n",
       "    </tr>\n",
       "  </tbody>\n",
       "</table>\n",
       "</div>"
      ],
      "text/plain": [
       "      name  Sex  age  height\n",
       "0  Han_bit  Man   20     180\n",
       "1   Han_la  Man   21     177"
      ]
     },
     "execution_count": 38,
     "metadata": {},
     "output_type": "execute_result"
    }
   ],
   "source": [
    "df2.head(2)"
   ]
  },
  {
   "cell_type": "code",
   "execution_count": 39,
   "id": "8eb94fbd-82d8-467d-9653-04f61fd313eb",
   "metadata": {},
   "outputs": [
    {
     "data": {
      "text/html": [
       "<div>\n",
       "<style scoped>\n",
       "    .dataframe tbody tr th:only-of-type {\n",
       "        vertical-align: middle;\n",
       "    }\n",
       "\n",
       "    .dataframe tbody tr th {\n",
       "        vertical-align: top;\n",
       "    }\n",
       "\n",
       "    .dataframe thead th {\n",
       "        text-align: right;\n",
       "    }\n",
       "</style>\n",
       "<table border=\"1\" class=\"dataframe\">\n",
       "  <thead>\n",
       "    <tr style=\"text-align: right;\">\n",
       "      <th></th>\n",
       "      <th>name</th>\n",
       "      <th>Sex</th>\n",
       "      <th>age</th>\n",
       "      <th>height</th>\n",
       "    </tr>\n",
       "  </thead>\n",
       "  <tbody>\n",
       "    <tr>\n",
       "      <th>1</th>\n",
       "      <td>Han_la</td>\n",
       "      <td>Man</td>\n",
       "      <td>21</td>\n",
       "      <td>177</td>\n",
       "    </tr>\n",
       "    <tr>\n",
       "      <th>2</th>\n",
       "      <td>Han_na</td>\n",
       "      <td>Woman</td>\n",
       "      <td>20</td>\n",
       "      <td>160</td>\n",
       "    </tr>\n",
       "  </tbody>\n",
       "</table>\n",
       "</div>"
      ],
      "text/plain": [
       "     name    Sex  age  height\n",
       "1  Han_la    Man   21     177\n",
       "2  Han_na  Woman   20     160"
      ]
     },
     "execution_count": 39,
     "metadata": {},
     "output_type": "execute_result"
    }
   ],
   "source": [
    "df2.tail(2)"
   ]
  },
  {
   "cell_type": "code",
   "execution_count": 33,
   "id": "b09b0449-54cc-47df-8167-e4c7bc9ef744",
   "metadata": {},
   "outputs": [
    {
     "name": "stdout",
     "output_type": "stream",
     "text": [
      "1월   -15\n",
      "2월    -4\n",
      "3월     5\n",
      "4월    13\n",
      "5월    20\n",
      "6월    25\n",
      "dtype: int64\n"
     ]
    }
   ],
   "source": [
    "#실습 복습\n",
    "#2-1 시리즈생성 -1~6월 평균온도가 -15, -4, 5, 13, 20, 25 인 경우 (월 정보를 인덱스로 사용하세요)\n",
    "import pandas as pd\n",
    "temp4 = pd.Series([-15, -4, 5, 13, 20, 25], index=['1월', '2월', '3월', '4월', '5월', '6월'])\n",
    "print(temp4)"
   ]
  },
  {
   "cell_type": "code",
   "execution_count": 34,
   "id": "6ed7b841-a4d4-4e01-8d81-7a711977b673",
   "metadata": {},
   "outputs": [
    {
     "data": {
      "text/html": [
       "<div>\n",
       "<style scoped>\n",
       "    .dataframe tbody tr th:only-of-type {\n",
       "        vertical-align: middle;\n",
       "    }\n",
       "\n",
       "    .dataframe tbody tr th {\n",
       "        vertical-align: top;\n",
       "    }\n",
       "\n",
       "    .dataframe thead th {\n",
       "        text-align: right;\n",
       "    }\n",
       "</style>\n",
       "<table border=\"1\" class=\"dataframe\">\n",
       "  <thead>\n",
       "    <tr style=\"text-align: right;\">\n",
       "      <th></th>\n",
       "      <th>과목번호</th>\n",
       "      <th>과목명</th>\n",
       "      <th>수강시간</th>\n",
       "      <th>담당교수</th>\n",
       "    </tr>\n",
       "  </thead>\n",
       "  <tbody>\n",
       "    <tr>\n",
       "      <th>0</th>\n",
       "      <td>0966201</td>\n",
       "      <td>파이썬응용</td>\n",
       "      <td>화234</td>\n",
       "      <td>정은화</td>\n",
       "    </tr>\n",
       "    <tr>\n",
       "      <th>1</th>\n",
       "      <td>0367203</td>\n",
       "      <td>C++프로그래밍</td>\n",
       "      <td>월789</td>\n",
       "      <td>곽노윤</td>\n",
       "    </tr>\n",
       "    <tr>\n",
       "      <th>2</th>\n",
       "      <td>0218605</td>\n",
       "      <td>자료구조론</td>\n",
       "      <td>수67</td>\n",
       "      <td>이성훈</td>\n",
       "    </tr>\n",
       "  </tbody>\n",
       "</table>\n",
       "</div>"
      ],
      "text/plain": [
       "      과목번호       과목명  수강시간 담당교수\n",
       "0  0966201     파이썬응용  화234  정은화\n",
       "1  0367203  C++프로그래밍  월789  곽노윤\n",
       "2  0218605     자료구조론   수67  이성훈"
      ]
     },
     "execution_count": 34,
     "metadata": {},
     "output_type": "execute_result"
    }
   ],
   "source": [
    "#2-2 데이터 프레임 생성 방법 3가지로 데이터프레임을 만드세요\n",
    "#과목번호, 과목명,  수강시간, 담당교수  (본인 시간표 이용) \n",
    "#리스트 사용\n",
    "import pandas as pd\n",
    "\n",
    "list4=list([['0966201', '파이썬응용', '화234', '정은화'],\n",
    "            ['0367203', 'C++프로그래밍', '월789', '곽노윤'],\n",
    "            ['0218605', '자료구조론', '수67', '이성훈']\n",
    "           ])\n",
    "col_names=['과목번호', '과목명', '수강시간', '담당교수']\n",
    "pd.DataFrame(list4, columns=col_names)"
   ]
  },
  {
   "cell_type": "code",
   "execution_count": 36,
   "id": "0906532e-5621-4c67-92b2-fff3d53bb9b2",
   "metadata": {},
   "outputs": [
    {
     "data": {
      "text/html": [
       "<div>\n",
       "<style scoped>\n",
       "    .dataframe tbody tr th:only-of-type {\n",
       "        vertical-align: middle;\n",
       "    }\n",
       "\n",
       "    .dataframe tbody tr th {\n",
       "        vertical-align: top;\n",
       "    }\n",
       "\n",
       "    .dataframe thead th {\n",
       "        text-align: right;\n",
       "    }\n",
       "</style>\n",
       "<table border=\"1\" class=\"dataframe\">\n",
       "  <thead>\n",
       "    <tr style=\"text-align: right;\">\n",
       "      <th></th>\n",
       "      <th>과목번호</th>\n",
       "      <th>과목명</th>\n",
       "      <th>수강시간</th>\n",
       "      <th>담당교수</th>\n",
       "    </tr>\n",
       "  </thead>\n",
       "  <tbody>\n",
       "    <tr>\n",
       "      <th>0</th>\n",
       "      <td>0966201</td>\n",
       "      <td>파이썬응용</td>\n",
       "      <td>화234</td>\n",
       "      <td>정은화</td>\n",
       "    </tr>\n",
       "    <tr>\n",
       "      <th>1</th>\n",
       "      <td>0367203</td>\n",
       "      <td>C++프로그래밍</td>\n",
       "      <td>월789</td>\n",
       "      <td>곽노윤</td>\n",
       "    </tr>\n",
       "    <tr>\n",
       "      <th>2</th>\n",
       "      <td>0218605</td>\n",
       "      <td>자료구조론</td>\n",
       "      <td>수67</td>\n",
       "      <td>이성훈</td>\n",
       "    </tr>\n",
       "  </tbody>\n",
       "</table>\n",
       "</div>"
      ],
      "text/plain": [
       "      과목번호       과목명  수강시간 담당교수\n",
       "0  0966201     파이썬응용  화234  정은화\n",
       "1  0367203  C++프로그래밍  월789  곽노윤\n",
       "2  0218605     자료구조론   수67  이성훈"
      ]
     },
     "execution_count": 36,
     "metadata": {},
     "output_type": "execute_result"
    }
   ],
   "source": [
    "#넘파이 배열 사용\n",
    "import numpy as np\n",
    "import pandas as pd\n",
    "\n",
    "arr2=np.array([['0966201', '파이썬응용', '화234', '정은화'],\n",
    "            ['0367203', 'C++프로그래밍', '월789', '곽노윤'],\n",
    "            ['0218605', '자료구조론', '수67', '이성훈']\n",
    "           ])\n",
    "col_names=['과목번호', '과목명', '수강시간', '담당교수']\n",
    "pd.DataFrame(arr2, columns=col_names)"
   ]
  },
  {
   "cell_type": "code",
   "execution_count": 41,
   "id": "e919f194-5da1-48d2-ac61-5e4a5a85ee5c",
   "metadata": {},
   "outputs": [
    {
     "data": {
      "text/html": [
       "<div>\n",
       "<style scoped>\n",
       "    .dataframe tbody tr th:only-of-type {\n",
       "        vertical-align: middle;\n",
       "    }\n",
       "\n",
       "    .dataframe tbody tr th {\n",
       "        vertical-align: top;\n",
       "    }\n",
       "\n",
       "    .dataframe thead th {\n",
       "        text-align: right;\n",
       "    }\n",
       "</style>\n",
       "<table border=\"1\" class=\"dataframe\">\n",
       "  <thead>\n",
       "    <tr style=\"text-align: right;\">\n",
       "      <th></th>\n",
       "      <th>과목번호</th>\n",
       "      <th>과목명</th>\n",
       "      <th>수강시간</th>\n",
       "      <th>담당교수</th>\n",
       "    </tr>\n",
       "  </thead>\n",
       "  <tbody>\n",
       "    <tr>\n",
       "      <th>0</th>\n",
       "      <td>0966201</td>\n",
       "      <td>파이썬응용</td>\n",
       "      <td>화234</td>\n",
       "      <td>정은화</td>\n",
       "    </tr>\n",
       "    <tr>\n",
       "      <th>1</th>\n",
       "      <td>0367203</td>\n",
       "      <td>프로그래밍</td>\n",
       "      <td>월789</td>\n",
       "      <td>곽노윤</td>\n",
       "    </tr>\n",
       "    <tr>\n",
       "      <th>2</th>\n",
       "      <td>0218605</td>\n",
       "      <td>자료구조론</td>\n",
       "      <td>수67</td>\n",
       "      <td>이성훈</td>\n",
       "    </tr>\n",
       "  </tbody>\n",
       "</table>\n",
       "</div>"
      ],
      "text/plain": [
       "      과목번호    과목명  수강시간 담당교수\n",
       "0  0966201  파이썬응용  화234  정은화\n",
       "1  0367203  프로그래밍  월789  곽노윤\n",
       "2  0218605  자료구조론   수67  이성훈"
      ]
     },
     "execution_count": 41,
     "metadata": {},
     "output_type": "execute_result"
    }
   ],
   "source": [
    "#딕셔너리 사용\n",
    "import pandas as pd\n",
    "dict2={'과목번호':{0:'0966201', 1:'0367203', 2:'0218605'},\n",
    "       '과목명':{0:'파이썬응용', 1:'프로그래밍', 2:'자료구조론'},\n",
    "       '수강시간':{0:'화234', 1:'월789', 2:'수67'},\n",
    "       '담당교수':{0:'정은화', 1:'곽노윤', 2:'이성훈'}\n",
    "      }\n",
    "pd.DataFrame(dict2)"
   ]
  },
  {
   "cell_type": "code",
   "execution_count": 44,
   "id": "b7aedfe6-0e59-489b-a1bf-665b3d0c7e06",
   "metadata": {},
   "outputs": [
    {
     "data": {
      "text/html": [
       "<div>\n",
       "<style scoped>\n",
       "    .dataframe tbody tr th:only-of-type {\n",
       "        vertical-align: middle;\n",
       "    }\n",
       "\n",
       "    .dataframe tbody tr th {\n",
       "        vertical-align: top;\n",
       "    }\n",
       "\n",
       "    .dataframe thead th {\n",
       "        text-align: right;\n",
       "    }\n",
       "</style>\n",
       "<table border=\"1\" class=\"dataframe\">\n",
       "  <thead>\n",
       "    <tr style=\"text-align: right;\">\n",
       "      <th></th>\n",
       "      <th>과목번호</th>\n",
       "      <th>과목명</th>\n",
       "      <th>수강시간</th>\n",
       "      <th>담당교수</th>\n",
       "    </tr>\n",
       "  </thead>\n",
       "  <tbody>\n",
       "    <tr>\n",
       "      <th>0</th>\n",
       "      <td>0966201</td>\n",
       "      <td>파이썬응용</td>\n",
       "      <td>화234</td>\n",
       "      <td>정은화</td>\n",
       "    </tr>\n",
       "    <tr>\n",
       "      <th>1</th>\n",
       "      <td>0367203</td>\n",
       "      <td>C++프로그래밍</td>\n",
       "      <td>월789</td>\n",
       "      <td>곽노윤</td>\n",
       "    </tr>\n",
       "    <tr>\n",
       "      <th>2</th>\n",
       "      <td>0218605</td>\n",
       "      <td>자료구조론</td>\n",
       "      <td>수67</td>\n",
       "      <td>이성훈</td>\n",
       "    </tr>\n",
       "  </tbody>\n",
       "</table>\n",
       "</div>"
      ],
      "text/plain": [
       "      과목번호       과목명  수강시간 담당교수\n",
       "0  0966201     파이썬응용  화234  정은화\n",
       "1  0367203  C++프로그래밍  월789  곽노윤\n",
       "2  0218605     자료구조론   수67  이성훈"
      ]
     },
     "execution_count": 44,
     "metadata": {},
     "output_type": "execute_result"
    }
   ],
   "source": [
    "#2-3  위 3개의 데이터 프레임을 time1.csv, time2.csv, time3.csv만들고\n",
    "#이를 불러와서 조회하는 방법을 실습하기(오늘 배운 내용)\n",
    "import pandas as pd\n",
    "\n",
    "list5=list([['0966201', '파이썬응용', '화234', '정은화'],\n",
    "            ['0367203', 'C++프로그래밍', '월789', '곽노윤'],\n",
    "            ['0218605', '자료구조론', '수67', '이성훈']\n",
    "           ])\n",
    "col_names=['과목번호', '과목명', '수강시간', '담당교수']\n",
    "df3=pd.DataFrame(list5, columns=col_names)\n",
    "df3\n",
    "\n",
    "\n"
   ]
  },
  {
   "cell_type": "code",
   "execution_count": 45,
   "id": "10acda4d-f2a0-4339-9570-9c8e97dda159",
   "metadata": {},
   "outputs": [
    {
     "data": {
      "text/html": [
       "<div>\n",
       "<style scoped>\n",
       "    .dataframe tbody tr th:only-of-type {\n",
       "        vertical-align: middle;\n",
       "    }\n",
       "\n",
       "    .dataframe tbody tr th {\n",
       "        vertical-align: top;\n",
       "    }\n",
       "\n",
       "    .dataframe thead th {\n",
       "        text-align: right;\n",
       "    }\n",
       "</style>\n",
       "<table border=\"1\" class=\"dataframe\">\n",
       "  <thead>\n",
       "    <tr style=\"text-align: right;\">\n",
       "      <th></th>\n",
       "      <th>과목번호</th>\n",
       "      <th>과목명</th>\n",
       "      <th>수강시간</th>\n",
       "      <th>담당교수</th>\n",
       "    </tr>\n",
       "  </thead>\n",
       "  <tbody>\n",
       "    <tr>\n",
       "      <th>0</th>\n",
       "      <td>966201</td>\n",
       "      <td>파이썬응용</td>\n",
       "      <td>화234</td>\n",
       "      <td>정은화</td>\n",
       "    </tr>\n",
       "    <tr>\n",
       "      <th>1</th>\n",
       "      <td>367203</td>\n",
       "      <td>C++프로그래밍</td>\n",
       "      <td>월789</td>\n",
       "      <td>곽노윤</td>\n",
       "    </tr>\n",
       "    <tr>\n",
       "      <th>2</th>\n",
       "      <td>218605</td>\n",
       "      <td>자료구조론</td>\n",
       "      <td>수67</td>\n",
       "      <td>이성훈</td>\n",
       "    </tr>\n",
       "  </tbody>\n",
       "</table>\n",
       "</div>"
      ],
      "text/plain": [
       "     과목번호       과목명  수강시간 담당교수\n",
       "0  966201     파이썬응용  화234  정은화\n",
       "1  367203  C++프로그래밍  월789  곽노윤\n",
       "2  218605     자료구조론   수67  이성훈"
      ]
     },
     "execution_count": 45,
     "metadata": {},
     "output_type": "execute_result"
    }
   ],
   "source": [
    "#CSV파일로 저장\n",
    "df3.to_csv('./file2.csv', header=True, index=False, encoding='utf-8')\n",
    "#CSV파일 읽기\n",
    "df4=pd.read_csv('./file2.csv', sep=',')\n",
    "df4"
   ]
  }
 ],
 "metadata": {
  "kernelspec": {
   "display_name": "Python 3 (ipykernel)",
   "language": "python",
   "name": "python3"
  },
  "language_info": {
   "codemirror_mode": {
    "name": "ipython",
    "version": 3
   },
   "file_extension": ".py",
   "mimetype": "text/x-python",
   "name": "python",
   "nbconvert_exporter": "python",
   "pygments_lexer": "ipython3",
   "version": "3.12.4"
  }
 },
 "nbformat": 4,
 "nbformat_minor": 5
}
