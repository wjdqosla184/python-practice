{
 "cells": [
  {
   "cell_type": "code",
   "execution_count": 20,
   "id": "e0dd64d1-4d9d-4840-941a-c1be7c566848",
   "metadata": {},
   "outputs": [
    {
     "name": "stdout",
     "output_type": "stream",
     "text": [
      "1\n",
      "3\n",
      "6\n",
      "11\n",
      "20\n",
      "31\n"
     ]
    }
   ],
   "source": [
    "#1\n",
    "r1 = 0\n",
    "def add1(num):\n",
    "    global r1\n",
    "    r1 += num\n",
    "    return r1\n",
    "print(add1(1))\n",
    "print(add1(2))\n",
    "print(add1(3))\n",
    "print(add1(5))\n",
    "print(add1(9))\n",
    "print(add1(11))"
   ]
  },
  {
   "cell_type": "code",
   "execution_count": 69,
   "id": "a1ac3f5d-adb4-4431-bd48-a4413e722d42",
   "metadata": {},
   "outputs": [
    {
     "name": "stdout",
     "output_type": "stream",
     "text": [
      "[{'name': 'Espresso', 'price': 4500}, {'name': 'Green tea', 'price': 4000}]\n",
      " --------- [ MENU ] ---------\n",
      "Espresso      |    4500\n",
      "Green tea     |    4000\n",
      "-----------------------------\n"
     ]
    }
   ],
   "source": [
    "#2-1\n",
    "def create_menu():\n",
    "    return [\n",
    "        {'name': 'Espresso', 'price': 4500},\n",
    "        {'name': 'Green tea', 'price': 4000}\n",
    "    ]\n",
    "\n",
    "def show_menu(data):\n",
    "    for menu in data:\n",
    "        print('{:14}|{:8d}'.format(menu['name'], menu['price']))\n",
    "\n",
    "data = create_menu()\n",
    "print(data)\n",
    "\n",
    "print(' --------- [ MENU ] ---------')\n",
    "show_menu(data) \n",
    "print('-----------------------------')\n"
   ]
  },
  {
   "cell_type": "code",
   "execution_count": 71,
   "id": "891868e1-d47a-44a4-976b-0f936a5ea269",
   "metadata": {},
   "outputs": [
    {
     "name": "stdout",
     "output_type": "stream",
     "text": [
      "                               메뉴판\n",
      "Orange juice 4000원  Ice tea 4500원  Cafe latte 4800원  Americano 3500원  "
     ]
    },
    {
     "name": "stdin",
     "output_type": "stream",
     "text": [
      "주문메뉴 중 선택하세요:  d\n",
      "주문메뉴 중 선택하세요:  d\n",
      "주문메뉴 중 선택하세요:  Ice tea\n"
     ]
    },
    {
     "name": "stdout",
     "output_type": "stream",
     "text": [
      "주문내역: Ice tea\n",
      "4500 원\n"
     ]
    }
   ],
   "source": [
    "#3\n",
    "def create_menu():\n",
    "    return [\n",
    "        {'name': 'Orange juice', 'price': 4000},\n",
    "        {'name': 'Ice tea', 'price': 4500},\n",
    "        {'name': 'Cafe latte', 'price': 4800},\n",
    "        {'name': 'Americano', 'price': 3500}\n",
    "    ]\n",
    "\n",
    "def show_menu(data):\n",
    "    print('                               메뉴판')\n",
    "    for menu in data:\n",
    "        print(menu['name'] + ' ' + str(menu['price']) + '원', end='  ')\n",
    "\n",
    "data = create_menu()  \n",
    "\n",
    "show_menu(data)  \n",
    "\n",
    "order = ''\n",
    "while order not in [menu['name'] for menu in data]:  \n",
    "    order = input('주문메뉴 중 선택하세요: ')\n",
    "print('주문내역:', order)\n",
    "print(menu[order],'원') "
   ]
  },
  {
   "cell_type": "code",
   "execution_count": 23,
   "id": "10607419-621f-4cde-aaf3-57a3ff110c18",
   "metadata": {},
   "outputs": [
    {
     "name": "stdout",
     "output_type": "stream",
     "text": [
      "3\n",
      "7\n"
     ]
    }
   ],
   "source": [
    "#수업 실습\n",
    "r1, r2=0,0\n",
    "def add1(num):\n",
    "    global r1\n",
    "    r1=+num\n",
    "    return r1\n",
    "def add2(num):\n",
    "    global r2\n",
    "    r2 += num\n",
    "    return r2\n",
    "print(add1(3))\n",
    "print(add1(7))\n",
    "print(add2())\n",
    "print(add2())"
   ]
  },
  {
   "cell_type": "code",
   "execution_count": 32,
   "id": "81661ea2-6d0d-4483-86dd-bb0ce785f85a",
   "metadata": {},
   "outputs": [
    {
     "name": "stdout",
     "output_type": "stream",
     "text": [
      "2\n",
      "6\n",
      "12\n",
      "3\n",
      "16\n",
      "20\n"
     ]
    }
   ],
   "source": [
    "# class 생성: 가산기\n",
    "class Calculator():\n",
    "    def __init__(self): #생성자\n",
    "        self.result = 0\n",
    "        \n",
    "    def add(self, num):\n",
    "        self.result += num\n",
    "        return self.result\n",
    "\n",
    "cal1=Calculator() #인스턴스1\n",
    "cal2=Calculator() #인스턴스2\n",
    "print(cal1.add(2))\n",
    "print(cal1.add(4))\n",
    "print(cal1.add(6))\n",
    "\n",
    "print(cal2.add(3))\n",
    "print(cal2.add(13))\n",
    "print(cal1.add(8))\n",
    "            "
   ]
  },
  {
   "cell_type": "code",
   "execution_count": 38,
   "id": "03909487-e25c-41de-bd6d-7c8e5efa5a21",
   "metadata": {},
   "outputs": [
    {
     "name": "stdout",
     "output_type": "stream",
     "text": [
      "4\n",
      "2\n",
      "6\n",
      "8\n",
      "2\n",
      "2.0\n",
      "10\n",
      "0.5\n"
     ]
    }
   ],
   "source": [
    "# 두 수를 산술 (+,-,*,/)연산하는 기능을 가진 클래스 생성하기\n",
    "class FourCal:\n",
    "    def __init__(self, first, second):\n",
    "        self.first=first\n",
    "        self.second=second\n",
    "    def add(self):\n",
    "        result=self.first+self.second\n",
    "        return result\n",
    "    def sub(self):\n",
    "        result=self.first-self.second\n",
    "        return result\n",
    "    def mul(self):\n",
    "        result=self.first*self.second\n",
    "        return result\n",
    "    def div(self):\n",
    "        result=self.first/self.second\n",
    "        return result\n",
    "\n",
    "a=FourCal(4,2)\n",
    "print(a.first)\n",
    "print(a.second)\n",
    "print(a.add())\n",
    "print(a.mul())\n",
    "print(a.sub())\n",
    "print(a.div())\n",
    "b=FourCal(10,20)\n",
    "print(b.first)\n",
    "print(b.div())"
   ]
  },
  {
   "cell_type": "code",
   "execution_count": 53,
   "id": "89b08464-bd62-43f0-bf28-b68420fc1882",
   "metadata": {},
   "outputs": [
    {
     "name": "stdout",
     "output_type": "stream",
     "text": [
      "9\n",
      "2.0\n"
     ]
    }
   ],
   "source": [
    "#class -상속 1\n",
    "class MoreFourCal(FourCal): #FourCal를 상속 받아서 MoreFourCal 클래스 생성\n",
    "    pass\n",
    "c=MoreFourCal(6,3)\n",
    "print(c.add())\n",
    "print(c.div())\n"
   ]
  },
  {
   "cell_type": "code",
   "execution_count": 63,
   "id": "0c201b3d-3f81-43a4-9efa-216a1f7716e7",
   "metadata": {},
   "outputs": [
    {
     "name": "stdout",
     "output_type": "stream",
     "text": [
      "0\n"
     ]
    }
   ],
   "source": [
    "d=MoreFourCal(4,0)\n",
    "print(d.mul())"
   ]
  },
  {
   "cell_type": "code",
   "execution_count": 64,
   "id": "62cddf30-c86b-4f74-9be7-56513d373663",
   "metadata": {},
   "outputs": [
    {
     "name": "stdout",
     "output_type": "stream",
     "text": [
      "-2\n",
      "16\n"
     ]
    }
   ],
   "source": [
    "#상속2 - 새로운 메솓 추가: 제곱하는 메소드 기능 추가\n",
    "class MoreFourCal(FourCal):\n",
    "    def pow(self):\n",
    "        result=self.first**self.second\n",
    "        return result\n",
    "\n",
    "f=MoreFourCal(2,4)\n",
    "print(f.sub())\n",
    "print(f.pow())"
   ]
  },
  {
   "cell_type": "code",
   "execution_count": 65,
   "id": "401ab2c8-6103-46b6-8926-0106e538a8ac",
   "metadata": {},
   "outputs": [
    {
     "name": "stdout",
     "output_type": "stream",
     "text": [
      "0\n"
     ]
    }
   ],
   "source": [
    "#Method Overriding\n",
    "class SafeFourCal(FourCal):\n",
    "    def div(self):\n",
    "        if self.second==0:\n",
    "            return 0\n",
    "        else:\n",
    "            return self.first/self.second\n",
    "\n",
    "h=SafeFourCal(4, 0)\n",
    "print(h.div())"
   ]
  },
  {
   "cell_type": "code",
   "execution_count": null,
   "id": "ee49cc51-4468-4832-91fc-f03e2986f9b5",
   "metadata": {},
   "outputs": [],
   "source": []
  }
 ],
 "metadata": {
  "kernelspec": {
   "display_name": "Python 3 (ipykernel)",
   "language": "python",
   "name": "python3"
  },
  "language_info": {
   "codemirror_mode": {
    "name": "ipython",
    "version": 3
   },
   "file_extension": ".py",
   "mimetype": "text/x-python",
   "name": "python",
   "nbconvert_exporter": "python",
   "pygments_lexer": "ipython3",
   "version": "3.12.4"
  }
 },
 "nbformat": 4,
 "nbformat_minor": 5
}
