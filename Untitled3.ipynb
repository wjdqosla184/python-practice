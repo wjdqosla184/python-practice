{
 "cells": [
  {
   "cell_type": "code",
   "execution_count": 2,
   "id": "ffc4b6cb-f497-4af4-bce3-223773990682",
   "metadata": {},
   "outputs": [
    {
     "name": "stdin",
     "output_type": "stream",
     "text": [
      "이름을 입력하세요: 정배\n"
     ]
    },
    {
     "name": "stdout",
     "output_type": "stream",
     "text": [
      "정배 은 회원입니다.\n"
     ]
    }
   ],
   "source": [
    "students=['정배','범근','수희','민준','재민']\n",
    "input_name=input('이름을 입력하세요:')\n",
    "if input_name in students:\n",
    "    print(input_name,'은 회원입니다.')\n",
    "else:\n",
    "    print(input_name,'은 회원이 아닙니다.')"
   ]
  },
  {
   "cell_type": "code",
   "execution_count": 4,
   "id": "f05934d2-7e6f-4a94-a598-11d207c28558",
   "metadata": {},
   "outputs": [
    {
     "name": "stdin",
     "output_type": "stream",
     "text": [
      "당신의 나이를 입력하세요: 20\n",
      "현재년도를 입력하세요: 2020\n"
     ]
    },
    {
     "name": "stdout",
     "output_type": "stream",
     "text": [
      "10년 뒤 당신의 나이는: 30 입니다.\n",
      "10년 뒤 년도는: 2030 입니다.\n"
     ]
    }
   ],
   "source": [
    "age=int(input('당신의 나이를 입력하세요:'))\n",
    "year=int(input('현재년도를 입력하세요:'))\n",
    "print('10년 뒤 당신의 나이는:',age+10,'입니다.')\n",
    "print('10년 뒤 년도는:',year+10,'입니다.')"
   ]
  },
  {
   "cell_type": "code",
   "execution_count": 7,
   "id": "863f1d9d-9b54-4dda-a944-c865c0a03ad8",
   "metadata": {},
   "outputs": [
    {
     "name": "stdin",
     "output_type": "stream",
     "text": [
      "데이터를 입력해주세요: 45\n"
     ]
    },
    {
     "name": "stdout",
     "output_type": "stream",
     "text": [
      "45 나누기 10의 몫은 4.5\n",
      "45 나누기 10의 몫은 4\n",
      "45 나누기 10의 나머지 5\n"
     ]
    }
   ],
   "source": [
    "data=int(input('데이터를 입력해주세요:'))\n",
    "print(data,'나누기 10의 몫은',data/10) # 실수 나눗셈의 몫\n",
    "print(data,'나누기 10의 몫은',data//10) # 정수 나눗셈의 몫\n",
    "print(data,'나누기 10의 나머지',data%10) # 나머지"
   ]
  },
  {
   "cell_type": "code",
   "execution_count": 14,
   "id": "95888abc-8afc-42a7-ac23-5178bf8a3798",
   "metadata": {},
   "outputs": [
    {
     "name": "stdin",
     "output_type": "stream",
     "text": [
      "영어 성적을 입력해주세요: 50\n",
      "수학 성적을 입력해주세요: 50\n"
     ]
    },
    {
     "name": "stdout",
     "output_type": "stream",
     "text": [
      "You need more effort!!!\n"
     ]
    }
   ],
   "source": [
    "eng=int(input('영어 성적을 입력해주세요:'))\n",
    "math=int(input('수학 성적을 입력해주세요:'))\n",
    "if eng and math >=90:\n",
    "    print('Great')\n",
    "elif (eng or math)>=90:\n",
    "    print('Good')\n",
    "else:\n",
    "    print('You need more effort!!!')"
   ]
  },
  {
   "cell_type": "code",
   "execution_count": 21,
   "id": "c2e9a5f8-d264-4eee-962a-c59dbedf989a",
   "metadata": {},
   "outputs": [
    {
     "name": "stdin",
     "output_type": "stream",
     "text": [
      "나이를 입력해주세요: 50\n"
     ]
    },
    {
     "name": "stdout",
     "output_type": "stream",
     "text": [
      "청소년 할인이 아닙니다.\n"
     ]
    }
   ],
   "source": [
    "age=int(input('나이를 입력해주세요:'))\n",
    "if age>=18:\n",
    "    print('청소년 할인이 아닙니다.')\n",
    "elif age<18 and age>=8:\n",
    "    print('청소년 할인 가능합니다.')\n",
    "else:\n",
    "    print('어린이 할인이 가능합니다.')"
   ]
  },
  {
   "cell_type": "code",
   "execution_count": 25,
   "id": "ec900b0e-879d-4efa-a464-9d9edaea61c4",
   "metadata": {},
   "outputs": [
    {
     "name": "stdin",
     "output_type": "stream",
     "text": [
      "가위 바위 보 중에서 선택해주세요. 가위\n"
     ]
    },
    {
     "name": "stdout",
     "output_type": "stream",
     "text": [
      "당신의 선택 가위\n",
      "computer의 선택: 보\n",
      "승리!!!\n"
     ]
    }
   ],
   "source": [
    "import random\n",
    "choices=['가위','바위','보']\n",
    "user=None\n",
    "while user not in choices:\n",
    "    user=input('가위 바위 보 중에서 선택해주세요.')\n",
    "print('당신의 선택',user)\n",
    "computer=random.choice(choices)\n",
    "print('computer의 선택:',computer)\n",
    "if user == computer:\n",
    "    print('무승부!!!')\n",
    "elif (user=='가위' and computer=='보')or(user=='바위' and computer=='가위')or(user=='보' and computer=='바위'):\n",
    "    print('승리!!!')\n",
    "else:\n",
    "    print('패배!!!')"
   ]
  },
  {
   "cell_type": "code",
   "execution_count": 26,
   "id": "d2a2d0ba-abc5-4a6d-9a76-51e34dc00a6a",
   "metadata": {},
   "outputs": [
    {
     "name": "stdout",
     "output_type": "stream",
     "text": [
      "메뉴판:\n",
      "아메리카노, 유자차, 아이스티\n"
     ]
    },
    {
     "name": "stdin",
     "output_type": "stream",
     "text": [
      "주문할 메뉴를 선택해주세요:  아메리카노\n"
     ]
    },
    {
     "name": "stdout",
     "output_type": "stream",
     "text": [
      "주문내역: 아메리카노 \n",
      "가격: 4500원\n"
     ]
    }
   ],
   "source": [
    "order_menu = ['아메리카노', '유자차', '아이스티']\n",
    "prices = {'아메리카노': 4500, '유자차': 5000, '아이스티': 5500}\n",
    "\n",
    "print('메뉴판:\\n' + ', '.join(order_menu))\n",
    "a = '주문내역:'\n",
    "order = input('주문할 메뉴를 선택해주세요: ')\n",
    "\n",
    "while order not in order_menu:\n",
    "    order = input('아메리카노, 유자차, 아이스티 중에서 선택해주세요: ')\n",
    "\n",
    "print(a, order, f'\\n가격: {prices[order]}원')\n"
   ]
  }
 ],
 "metadata": {
  "kernelspec": {
   "display_name": "Python 3 (ipykernel)",
   "language": "python",
   "name": "python3"
  },
  "language_info": {
   "codemirror_mode": {
    "name": "ipython",
    "version": 3
   },
   "file_extension": ".py",
   "mimetype": "text/x-python",
   "name": "python",
   "nbconvert_exporter": "python",
   "pygments_lexer": "ipython3",
   "version": "3.12.4"
  }
 },
 "nbformat": 4,
 "nbformat_minor": 5
}
