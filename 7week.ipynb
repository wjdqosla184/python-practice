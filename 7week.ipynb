{
 "cells": [
  {
   "cell_type": "code",
   "execution_count": 4,
   "id": "23c4fe54-56ed-4aa1-a37e-ac0494f6f5eb",
   "metadata": {},
   "outputs": [
    {
     "name": "stdout",
     "output_type": "stream",
     "text": [
      "3\n",
      "현재 r1의 값 3\n",
      "7\n",
      "현재 r1의 값 7\n"
     ]
    }
   ],
   "source": [
    "#누적 계산기\n",
    "r1=0\n",
    "\n",
    "def add1(num):\n",
    "    global r1\n",
    "    r1 += num #입력값(num) 더하기\n",
    "    return r1\n",
    "\n",
    "print(add1(3))\n",
    "print(\"현재 r1의 값\",r1)\n",
    "print(add1(4))\n",
    "print(\"현재 r1의 값\",r1)\n",
    "    "
   ]
  },
  {
   "cell_type": "code",
   "execution_count": 11,
   "id": "1202389e-22c2-420f-b772-53726c1b66c0",
   "metadata": {},
   "outputs": [
    {
     "name": "stdout",
     "output_type": "stream",
     "text": [
      "5\n",
      "7\n",
      "15\n",
      "27\n"
     ]
    }
   ],
   "source": [
    "r1,r2=0,0\n",
    "def add1(num):\n",
    "    global r1\n",
    "    r1+=num\n",
    "    return r1\n",
    "print(add1(5))\n",
    "print(add1(2))\n",
    "def add2(num):\n",
    "    global r2\n",
    "    r2 +=num\n",
    "    return r2\n",
    "print(add2(15))\n",
    "print(add2(12))"
   ]
  },
  {
   "cell_type": "code",
   "execution_count": 15,
   "id": "e781ba6c-c864-4871-9fe6-506865f4a5ae",
   "metadata": {},
   "outputs": [
    {
     "name": "stdout",
     "output_type": "stream",
     "text": [
      "2\n",
      "6\n",
      "5\n",
      "12\n"
     ]
    }
   ],
   "source": [
    "class Calculator: #클래스 정의 (계산기)\n",
    "    def __init__(self): #생성자, 초기화 메소드 언더라인 2개씩(__) 1개씩 (_) 하면 오류 발생\n",
    "        self.result = 0\n",
    "    def add(self, num): #메소드\n",
    "        self.result += num\n",
    "        return self.result\n",
    "cal1 = Calculator()\n",
    "cal2 = Calculator()\n",
    "\n",
    "print(cal1.add(2))\n",
    "print(cal1.add(4))\n",
    "print(cal2.add(5))\n",
    "print(cal2.add(7))"
   ]
  },
  {
   "cell_type": "code",
   "execution_count": 22,
   "id": "2f68ee0b-54e0-46ba-96d6-9f29402f33e3",
   "metadata": {},
   "outputs": [
    {
     "name": "stdout",
     "output_type": "stream",
     "text": [
      "4\n",
      "2\n",
      "6\n",
      "8\n"
     ]
    }
   ],
   "source": [
    "#두 수의 산술연산 기능을 가진 클래스\n",
    "class FourCal:\n",
    "    def __init__(self, first, second):\n",
    "        self.first = first\n",
    "        self.second = second\n",
    "    def add(self):\n",
    "        result = self.first + self.second\n",
    "        return result\n",
    "    def mul(self):\n",
    "        result =self.first * self.second\n",
    "        return result\n",
    "\n",
    "a=FourCal(4,2)\n",
    "print(a.first) # first 값  4\n",
    "print(a.second) # second 값 2\n",
    "print(a.add()) # add 값 4+2(first + second) = 6\n",
    "print(a.mul()) # mul 값 4*2 = 8"
   ]
  },
  {
   "cell_type": "code",
   "execution_count": 25,
   "id": "c084ecb8-f36a-4682-bc13-2f8039e340fe",
   "metadata": {},
   "outputs": [
    {
     "name": "stdout",
     "output_type": "stream",
     "text": [
      "8\n",
      "15\n"
     ]
    }
   ],
   "source": [
    "#기존 클래스를 상속하는 새 클래스\n",
    "class MoreFourCal(FourCal): # FourCal 상속함  class  새로운 클래스명(기존클래스명):\n",
    "    pass\n",
    "\n",
    "b=MoreFourCal(5,3)\n",
    "print(b.add()) # 5+3\n",
    "print(b.mul()) # 5*3 "
   ]
  },
  {
   "cell_type": "code",
   "execution_count": 29,
   "id": "ce8a2a66-210b-4f5f-95cb-4cc96b4f61a1",
   "metadata": {},
   "outputs": [
    {
     "name": "stdout",
     "output_type": "stream",
     "text": [
      "8\n",
      "125\n"
     ]
    }
   ],
   "source": [
    "#기존 클래스를 상속한 새 클래스에 새로운 기능을 추가\n",
    "class MoreFourCal(FourCal):\n",
    "    def pow(self): #제곱연산\n",
    "        result = self.first **self.second\n",
    "        return result\n",
    "\n",
    "b=MoreFourCal(5,3)\n",
    "print(b.add()) # 5 + 3\n",
    "print(b.pow()) # 5 * 5 * 5 (5^3)"
   ]
  },
  {
   "cell_type": "code",
   "execution_count": null,
   "id": "5252c52f-f425-436a-960c-66ab3601726b",
   "metadata": {},
   "outputs": [],
   "source": []
  }
 ],
 "metadata": {
  "kernelspec": {
   "display_name": "Python 3 (ipykernel)",
   "language": "python",
   "name": "python3"
  },
  "language_info": {
   "codemirror_mode": {
    "name": "ipython",
    "version": 3
   },
   "file_extension": ".py",
   "mimetype": "text/x-python",
   "name": "python",
   "nbconvert_exporter": "python",
   "pygments_lexer": "ipython3",
   "version": "3.12.4"
  }
 },
 "nbformat": 4,
 "nbformat_minor": 5
}
